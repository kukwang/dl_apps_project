{
 "cells": [
  {
   "cell_type": "markdown",
   "id": "2a424c4b",
   "metadata": {
    "papermill": {
     "duration": 0.013311,
     "end_time": "2022-06-12T16:53:14.923379",
     "exception": false,
     "start_time": "2022-06-12T16:53:14.910068",
     "status": "completed"
    },
    "tags": []
   },
   "source": [
    "# DL Apps Class Project(Kaggle track)\n",
    "### Competition: Contradictory, My Dear Watson"
   ]
  },
  {
   "cell_type": "code",
   "execution_count": 1,
   "id": "0b6be6c8",
   "metadata": {
    "execution": {
     "iopub.execute_input": "2022-06-12T16:53:14.958758Z",
     "iopub.status.busy": "2022-06-12T16:53:14.958250Z",
     "iopub.status.idle": "2022-06-12T16:53:21.852607Z",
     "shell.execute_reply": "2022-06-12T16:53:21.850137Z"
    },
    "papermill": {
     "duration": 6.916827,
     "end_time": "2022-06-12T16:53:21.855105",
     "exception": false,
     "start_time": "2022-06-12T16:53:14.938278",
     "status": "completed"
    },
    "tags": []
   },
   "outputs": [
    {
     "name": "stdout",
     "output_type": "stream",
     "text": [
      "/kaggle/input/contradictory-my-dear-watson/sample_submission.csv\n",
      "/kaggle/input/contradictory-my-dear-watson/train.csv\n",
      "/kaggle/input/contradictory-my-dear-watson/test.csv\n",
      "ATen/Parallel:\n",
      "\tat::get_num_threads() : 1\n",
      "\tat::get_num_interop_threads() : 1\n",
      "OpenMP 201511 (a.k.a. OpenMP 4.5)\n",
      "\tomp_get_max_threads() : 1\n",
      "Intel(R) oneAPI Math Kernel Library Version 2022.0-Product Build 20211112 for Intel(R) 64 architecture applications\n",
      "\tmkl_get_max_threads() : 1\n",
      "Intel(R) MKL-DNN v2.5.2 (Git Hash a9302535553c73243c632ad3c4c80beec3d19a1e)\n",
      "std::thread::hardware_concurrency() : 2\n",
      "Environment variables:\n",
      "\tOMP_NUM_THREADS : [not set]\n",
      "\tMKL_NUM_THREADS : [not set]\n",
      "ATen parallel backend: OpenMP\n",
      "\n"
     ]
    }
   ],
   "source": [
    "import numpy as np\n",
    "import pandas as pd\n",
    "import random\n",
    "import os\n",
    "import sys\n",
    "import time\n",
    "import torch\n",
    "import transformers\n",
    "import sklearn\n",
    "import matplotlib.pyplot as plt\n",
    "import logging\n",
    "\n",
    "from argparse import Namespace\n",
    "from torch.utils.data import (DataLoader, RandomSampler, SequentialSampler, TensorDataset)\n",
    "from tqdm import tqdm\n",
    "\n",
    "from transformers import (BertConfig, BertForSequenceClassification, BertTokenizer,\n",
    "                          get_linear_schedule_with_warmup)\n",
    "\n",
    "# input data files are available in the read-only \"../input/\" directory\n",
    "# for example, running this (by clicking run or pressing Shift+Enter) will list all files under the input directory\n",
    "\n",
    "for dirname, _, filenames in os.walk('/kaggle/input'):\n",
    "    for filename in filenames:\n",
    "        print(os.path.join(dirname, filename))\n",
    "\n",
    "# you can write up to 20GB to the current directory (/kaggle/working/) that gets preserved as output when you create a version using \"Save & Run All\" \n",
    "# you can also write temporary files to /kaggle/temp/, but they won't be saved outside of the current session\n",
    "\n",
    "# prepare logging\n",
    "logger = logging.getLogger(__name__)\n",
    "logging.basicConfig(format = '%(asctime)s - %(levelname)s - %(name)s -   %(message)s',\n",
    "                    datefmt = '%m/%d/%Y %H:%M:%S',\n",
    "                    level = logging.WARN)\n",
    "\n",
    "# decrease logging\n",
    "logging.getLogger(\"transformers.modeling_utils\").setLevel(logging.WARN)  \n",
    "\n",
    "torch.set_num_threads(1)\n",
    "print(torch.__config__.parallel_info())"
   ]
  },
  {
   "cell_type": "code",
   "execution_count": 2,
   "id": "d60c4940",
   "metadata": {
    "execution": {
     "iopub.execute_input": "2022-06-12T16:53:21.875291Z",
     "iopub.status.busy": "2022-06-12T16:53:21.874798Z",
     "iopub.status.idle": "2022-06-12T16:53:21.954404Z",
     "shell.execute_reply": "2022-06-12T16:53:21.953493Z"
    },
    "papermill": {
     "duration": 0.092136,
     "end_time": "2022-06-12T16:53:21.957254",
     "exception": false,
     "start_time": "2022-06-12T16:53:21.865118",
     "status": "completed"
    },
    "tags": []
   },
   "outputs": [
    {
     "name": "stdout",
     "output_type": "stream",
     "text": [
      "GPU is available? True\n",
      "gpu num: 1\n",
      "current device idx: 0\n",
      "device name: Tesla P100-PCIE-16GB\n"
     ]
    }
   ],
   "source": [
    "# check GPU is available\n",
    "print('GPU is available?', torch.cuda.is_available())\n",
    "if torch.cuda.is_available():\n",
    "    print('gpu num:', torch.cuda.device_count())\n",
    "    print('current device idx:', torch.cuda.current_device())\n",
    "    print('device name:', torch.cuda.get_device_name(torch.cuda.current_device()))"
   ]
  },
  {
   "cell_type": "markdown",
   "id": "b9242679",
   "metadata": {
    "papermill": {
     "duration": 0.009465,
     "end_time": "2022-06-12T16:53:21.976531",
     "exception": false,
     "start_time": "2022-06-12T16:53:21.967066",
     "status": "completed"
    },
    "tags": []
   },
   "source": [
    "## Set configurations for this competition"
   ]
  },
  {
   "cell_type": "code",
   "execution_count": 3,
   "id": "81df0520",
   "metadata": {
    "execution": {
     "iopub.execute_input": "2022-06-12T16:53:21.995218Z",
     "iopub.status.busy": "2022-06-12T16:53:21.994934Z",
     "iopub.status.idle": "2022-06-12T16:53:22.003171Z",
     "shell.execute_reply": "2022-06-12T16:53:22.002471Z"
    },
    "papermill": {
     "duration": 0.019485,
     "end_time": "2022-06-12T16:53:22.004845",
     "exception": false,
     "start_time": "2022-06-12T16:53:21.985360",
     "status": "completed"
    },
    "tags": []
   },
   "outputs": [],
   "source": [
    "# set configurations\n",
    "configs = Namespace()\n",
    "\n",
    "# data path\n",
    "configs.train_data_dir = \"../input/contradictory-my-dear-watson/train.csv\"\n",
    "configs.test_data_dir = \"../input/contradictory-my-dear-watson/test.csv\"\n",
    "\n",
    "# data ratio\n",
    "configs.val_ratio = 0.2\n",
    "\n",
    "# pretrained model name or path\n",
    "# We use multilingual-cased, because BERT contributor recommende\n",
    "# (version that fixes normalization issues)\n",
    "configs.model_name_or_path = \"bert-base-multilingual-cased\"\n",
    "configs.problem_type = \"multi_label_classification\"\n",
    "\n",
    "# maximum length of input sentence\n",
    "configs.max_seq_length = 128\n",
    "\n",
    "# configs of this competitions\n",
    "# have to fill this part\n",
    "configs.label_num = 3    # entailment, neutral, contradiction\n",
    "configs.model_type = \"bert\".lower()\n",
    "configs.do_lower_case = False\n",
    "\n",
    "# dev, batch size\n",
    "# only one gpu is available ʕ ´•̥̥̥ ᴥ•̥̥̥`ʔ\n",
    "if torch.cuda.is_available():\n",
    "    configs.device = \"cuda\"\n",
    "else:\n",
    "    configs.device = \"cpu\"\n",
    "configs.batch_size = 8\n",
    "configs.epochs = 3\n",
    "\n",
    "# hyperparameters\n",
    "configs.lr = 2e-5\n",
    "configs.eps = 1e-8\n",
    "configs.gradient_accumulation_steps = 1\n",
    "configs.warmup_proportion = 0.1\n",
    "configs.weight_decay = False\n",
    "\n",
    "# set random seed for reproduce\n",
    "def set_seed(seed):\n",
    "    random.seed(seed)\n",
    "    np.random.seed(seed)\n",
    "    torch.manual_seed(seed)\n",
    "set_seed(42)"
   ]
  },
  {
   "cell_type": "markdown",
   "id": "bf2d5fd0",
   "metadata": {
    "papermill": {
     "duration": 0.008793,
     "end_time": "2022-06-12T16:53:22.022858",
     "exception": false,
     "start_time": "2022-06-12T16:53:22.014065",
     "status": "completed"
    },
    "tags": []
   },
   "source": [
    "## Get Dataset"
   ]
  },
  {
   "cell_type": "code",
   "execution_count": 4,
   "id": "94e02047",
   "metadata": {
    "execution": {
     "iopub.execute_input": "2022-06-12T16:53:22.041789Z",
     "iopub.status.busy": "2022-06-12T16:53:22.041207Z",
     "iopub.status.idle": "2022-06-12T16:53:22.217698Z",
     "shell.execute_reply": "2022-06-12T16:53:22.216859Z"
    },
    "papermill": {
     "duration": 0.188683,
     "end_time": "2022-06-12T16:53:22.220349",
     "exception": false,
     "start_time": "2022-06-12T16:53:22.031666",
     "status": "completed"
    },
    "tags": []
   },
   "outputs": [],
   "source": [
    "full = pd.read_csv(configs.train_data_dir)\n",
    "test = pd.read_csv(configs.test_data_dir)\n",
    "\n",
    "# # split train dataset into train dataset and validation dataset\n",
    "train = full.sample(frac=0.8,random_state=200)\n",
    "val=full.drop(train.index).reset_index(drop=True)\n",
    "train = train.reset_index(drop=True)"
   ]
  },
  {
   "cell_type": "code",
   "execution_count": 5,
   "id": "dbf62303",
   "metadata": {
    "execution": {
     "iopub.execute_input": "2022-06-12T16:53:22.239836Z",
     "iopub.status.busy": "2022-06-12T16:53:22.239551Z",
     "iopub.status.idle": "2022-06-12T16:53:22.251637Z",
     "shell.execute_reply": "2022-06-12T16:53:22.250627Z"
    },
    "papermill": {
     "duration": 0.023536,
     "end_time": "2022-06-12T16:53:22.253318",
     "exception": false,
     "start_time": "2022-06-12T16:53:22.229782",
     "status": "completed"
    },
    "tags": []
   },
   "outputs": [
    {
     "name": "stdout",
     "output_type": "stream",
     "text": [
      "           id                                            premise  \\\n",
      "0  30b841cd73                   are you originally from uh Texas   \n",
      "1  902b8bdecc  سانتا فی میں، جہاں ہسپانوی ورثہ اور آبادی کافی...   \n",
      "2  966814bd2b  The anthropologist Napoleon Chagnon has shown ...   \n",
      "\n",
      "                                          hypothesis lang_abv language  label  \n",
      "0                      You're originally from Texas?       en  English      0  \n",
      "1     سانتا فے میں زیادہ تر لوگوں کے نام ہسپانوی ہیں       ur     Urdu      1  \n",
      "2  There is a direct correlation between Yanomamo...       en  English      0  \n",
      "           id                                            premise  \\\n",
      "0  c6d58c3f69  بکس، کیسی، راہیل، یسعیاہ، کیلی، کیلی، اور کولم...   \n",
      "1  cefcc82292                             هذا هو ما تم نصحنا به.   \n",
      "2  e98005252c  et cela est en grande partie dû au fait que le...   \n",
      "\n",
      "                                          hypothesis lang_abv language  \n",
      "0  کیسی کے لئے کوئی یادگار نہیں ہوگا, کولمین ہائی...       ur     Urdu  \n",
      "1  عندما يتم إخبارهم بما يجب عليهم فعله ، فشلت ال...       ar   Arabic  \n",
      "2                             Les mères se droguent.       fr   French  \n"
     ]
    }
   ],
   "source": [
    "# check the dataset\n",
    "print(train.head(3))\n",
    "print(test.head(3))"
   ]
  },
  {
   "cell_type": "code",
   "execution_count": 6,
   "id": "eeef6ff8",
   "metadata": {
    "execution": {
     "iopub.execute_input": "2022-06-12T16:53:22.272535Z",
     "iopub.status.busy": "2022-06-12T16:53:22.271929Z",
     "iopub.status.idle": "2022-06-12T16:53:22.279187Z",
     "shell.execute_reply": "2022-06-12T16:53:22.278471Z"
    },
    "papermill": {
     "duration": 0.019121,
     "end_time": "2022-06-12T16:53:22.281356",
     "exception": false,
     "start_time": "2022-06-12T16:53:22.262235",
     "status": "completed"
    },
    "tags": []
   },
   "outputs": [
    {
     "name": "stdout",
     "output_type": "stream",
     "text": [
      "full data num: 12120\n",
      "train data num: 9696\n",
      "val data num: 2424\n"
     ]
    }
   ],
   "source": [
    "# training dataset info\n",
    "print('full data num:', len(full.premise.values))\n",
    "print('train data num:', len(train.premise.values))\n",
    "print('val data num:', len(val.premise.values))"
   ]
  },
  {
   "cell_type": "code",
   "execution_count": 7,
   "id": "60f5b3af",
   "metadata": {
    "execution": {
     "iopub.execute_input": "2022-06-12T16:53:22.301381Z",
     "iopub.status.busy": "2022-06-12T16:53:22.300857Z",
     "iopub.status.idle": "2022-06-12T16:53:22.565054Z",
     "shell.execute_reply": "2022-06-12T16:53:22.564238Z"
    },
    "papermill": {
     "duration": 0.276726,
     "end_time": "2022-06-12T16:53:22.567867",
     "exception": false,
     "start_time": "2022-06-12T16:53:22.291141",
     "status": "completed"
    },
    "tags": []
   },
   "outputs": [
    {
     "data": {
      "image/png": "[encoded data removed]",
      "text/plain": [
       "<Figure size 720x720 with 1 Axes>"
      ]
     },
     "metadata": {},
     "output_type": "display_data"
    }
   ],
   "source": [
    "# see language distribution of the datasets\n",
    "labels, frequencies = np.unique(full.language.values, return_counts = True)\n",
    "\n",
    "plt.figure(figsize = (10,10))\n",
    "plt.pie(frequencies,labels = labels, autopct = '%1.1f%%')\n",
    "plt.show()"
   ]
  },
  {
   "cell_type": "code",
   "execution_count": 8,
   "id": "51d23b7b",
   "metadata": {
    "execution": {
     "iopub.execute_input": "2022-06-12T16:53:22.598340Z",
     "iopub.status.busy": "2022-06-12T16:53:22.598079Z",
     "iopub.status.idle": "2022-06-12T16:53:22.733904Z",
     "shell.execute_reply": "2022-06-12T16:53:22.733084Z"
    },
    "papermill": {
     "duration": 0.148726,
     "end_time": "2022-06-12T16:53:22.736121",
     "exception": false,
     "start_time": "2022-06-12T16:53:22.587395",
     "status": "completed"
    },
    "tags": []
   },
   "outputs": [
    {
     "data": {
      "image/png": "[encoded data removed]",
      "text/plain": [
       "<Figure size 360x360 with 1 Axes>"
      ]
     },
     "metadata": {
      "needs_background": "light"
     },
     "output_type": "display_data"
    }
   ],
   "source": [
    "# see label distribution of the datasets \n",
    "labels, frequencies = np.unique(full.label.values, return_counts = True)\n",
    "\n",
    "plt.figure(figsize = (5,5))\n",
    "\n",
    "label_name = ['entailment', 'neutral', 'contradiction'] \n",
    "\n",
    "plt.bar(labels, frequencies, width=0.5)\n",
    "plt.xticks(labels, label_name)\n",
    "\n",
    "plt.show()"
   ]
  },
  {
   "cell_type": "code",
   "execution_count": 9,
   "id": "4ceb4710",
   "metadata": {
    "execution": {
     "iopub.execute_input": "2022-06-12T16:53:22.766708Z",
     "iopub.status.busy": "2022-06-12T16:53:22.766433Z",
     "iopub.status.idle": "2022-06-12T16:53:22.984355Z",
     "shell.execute_reply": "2022-06-12T16:53:22.983476Z"
    },
    "papermill": {
     "duration": 0.231779,
     "end_time": "2022-06-12T16:53:22.986870",
     "exception": false,
     "start_time": "2022-06-12T16:53:22.755091",
     "status": "completed"
    },
    "tags": []
   },
   "outputs": [
    {
     "data": {
      "image/png": "[encoded data removed]",
      "text/plain": [
       "<Figure size 720x720 with 1 Axes>"
      ]
     },
     "metadata": {},
     "output_type": "display_data"
    }
   ],
   "source": [
    "# see language distribution of the datasets\n",
    "labels, frequencies = np.unique(train.language.values, return_counts = True)\n",
    "\n",
    "plt.figure(figsize = (10,10))\n",
    "plt.pie(frequencies,labels = labels, autopct = '%1.1f%%')\n",
    "plt.show()"
   ]
  },
  {
   "cell_type": "code",
   "execution_count": 10,
   "id": "378bd9a9",
   "metadata": {
    "execution": {
     "iopub.execute_input": "2022-06-12T16:53:23.026572Z",
     "iopub.status.busy": "2022-06-12T16:53:23.026293Z",
     "iopub.status.idle": "2022-06-12T16:53:23.240076Z",
     "shell.execute_reply": "2022-06-12T16:53:23.239149Z"
    },
    "papermill": {
     "duration": 0.233944,
     "end_time": "2022-06-12T16:53:23.242680",
     "exception": false,
     "start_time": "2022-06-12T16:53:23.008736",
     "status": "completed"
    },
    "tags": []
   },
   "outputs": [
    {
     "data": {
      "image/png": "[encoded data removed]",
      "text/plain": [
       "<Figure size 720x720 with 1 Axes>"
      ]
     },
     "metadata": {},
     "output_type": "display_data"
    }
   ],
   "source": [
    "# see language distribution of the datasets\n",
    "labels, frequencies = np.unique(val.language.values, return_counts = True)\n",
    "\n",
    "plt.figure(figsize = (10,10))\n",
    "plt.pie(frequencies,labels = labels, autopct = '%1.1f%%')\n",
    "plt.show()"
   ]
  },
  {
   "cell_type": "code",
   "execution_count": 11,
   "id": "b80d8a81",
   "metadata": {
    "execution": {
     "iopub.execute_input": "2022-06-12T16:53:23.283882Z",
     "iopub.status.busy": "2022-06-12T16:53:23.283624Z",
     "iopub.status.idle": "2022-06-12T16:53:23.413037Z",
     "shell.execute_reply": "2022-06-12T16:53:23.412252Z"
    },
    "papermill": {
     "duration": 0.149305,
     "end_time": "2022-06-12T16:53:23.415335",
     "exception": false,
     "start_time": "2022-06-12T16:53:23.266030",
     "status": "completed"
    },
    "tags": []
   },
   "outputs": [
    {
     "data": {
      "image/png": "[encoded data removed]",
      "text/plain": [
       "<Figure size 360x360 with 1 Axes>"
      ]
     },
     "metadata": {
      "needs_background": "light"
     },
     "output_type": "display_data"
    }
   ],
   "source": [
    "# see label distribution of the datasets \n",
    "labels, frequencies = np.unique(train.label.values, return_counts = True)\n",
    "\n",
    "plt.figure(figsize = (5,5))\n",
    "\n",
    "label_name = ['entailment', 'neutral', 'contradiction'] \n",
    "\n",
    "plt.bar(labels, frequencies, width=0.5)\n",
    "plt.xticks(labels, label_name)\n",
    "\n",
    "plt.show()"
   ]
  },
  {
   "cell_type": "code",
   "execution_count": 12,
   "id": "5f7ce13a",
   "metadata": {
    "execution": {
     "iopub.execute_input": "2022-06-12T16:53:23.452062Z",
     "iopub.status.busy": "2022-06-12T16:53:23.451806Z",
     "iopub.status.idle": "2022-06-12T16:53:23.596300Z",
     "shell.execute_reply": "2022-06-12T16:53:23.595500Z"
    },
    "papermill": {
     "duration": 0.159215,
     "end_time": "2022-06-12T16:53:23.597996",
     "exception": false,
     "start_time": "2022-06-12T16:53:23.438781",
     "status": "completed"
    },
    "tags": []
   },
   "outputs": [
    {
     "data": {
      "image/png": "[encoded data removed]",
      "text/plain": [
       "<Figure size 360x360 with 1 Axes>"
      ]
     },
     "metadata": {
      "needs_background": "light"
     },
     "output_type": "display_data"
    }
   ],
   "source": [
    "# see label distribution of the datasets \n",
    "labels, frequencies = np.unique(val.label.values, return_counts = True)\n",
    "\n",
    "plt.figure(figsize = (5,5))\n",
    "\n",
    "label_name = ['entailment', 'neutral', 'contradiction'] \n",
    "\n",
    "plt.bar(labels, frequencies, width=0.5)\n",
    "plt.xticks(labels, label_name)\n",
    "\n",
    "plt.show()"
   ]
  },
  {
   "cell_type": "markdown",
   "id": "137fbd49",
   "metadata": {
    "papermill": {
     "duration": 0.012253,
     "end_time": "2022-06-12T16:53:23.626888",
     "exception": false,
     "start_time": "2022-06-12T16:53:23.614635",
     "status": "completed"
    },
    "tags": []
   },
   "source": [
    "## Data preprocessing"
   ]
  },
  {
   "cell_type": "code",
   "execution_count": 13,
   "id": "2f42eed8",
   "metadata": {
    "execution": {
     "iopub.execute_input": "2022-06-12T16:53:23.652746Z",
     "iopub.status.busy": "2022-06-12T16:53:23.652480Z",
     "iopub.status.idle": "2022-06-12T16:53:26.962272Z",
     "shell.execute_reply": "2022-06-12T16:53:26.961393Z"
    },
    "papermill": {
     "duration": 3.325096,
     "end_time": "2022-06-12T16:53:26.964378",
     "exception": false,
     "start_time": "2022-06-12T16:53:23.639282",
     "status": "completed"
    },
    "tags": []
   },
   "outputs": [
    {
     "data": {
      "application/vnd.jupyter.widget-view+json": {
       "model_id": "b2a626eb83404873ae7ea09638c99ed7",
       "version_major": 2,
       "version_minor": 0
      },
      "text/plain": [
       "Downloading:   0%|          | 0.00/972k [00:00<?, ?B/s]"
      ]
     },
     "metadata": {},
     "output_type": "display_data"
    },
    {
     "data": {
      "application/vnd.jupyter.widget-view+json": {
       "model_id": "a1466e508fd3408a826c3ffd06a499fc",
       "version_major": 2,
       "version_minor": 0
      },
      "text/plain": [
       "Downloading:   0%|          | 0.00/29.0 [00:00<?, ?B/s]"
      ]
     },
     "metadata": {},
     "output_type": "display_data"
    },
    {
     "data": {
      "application/vnd.jupyter.widget-view+json": {
       "model_id": "9516468b1b62456f8835ba8c3c214aed",
       "version_major": 2,
       "version_minor": 0
      },
      "text/plain": [
       "Downloading:   0%|          | 0.00/625 [00:00<?, ?B/s]"
      ]
     },
     "metadata": {},
     "output_type": "display_data"
    }
   ],
   "source": [
    "tokenizer = BertTokenizer.from_pretrained(configs.model_name_or_path)"
   ]
  },
  {
   "cell_type": "code",
   "execution_count": 14,
   "id": "ba9dbf95",
   "metadata": {
    "execution": {
     "iopub.execute_input": "2022-06-12T16:53:26.994563Z",
     "iopub.status.busy": "2022-06-12T16:53:26.994220Z",
     "iopub.status.idle": "2022-06-12T16:53:26.998835Z",
     "shell.execute_reply": "2022-06-12T16:53:26.998086Z"
    },
    "papermill": {
     "duration": 0.020964,
     "end_time": "2022-06-12T16:53:27.000476",
     "exception": false,
     "start_time": "2022-06-12T16:53:26.979512",
     "status": "completed"
    },
    "tags": []
   },
   "outputs": [],
   "source": [
    "# encode sentences with pretrained bert tokenizer\n",
    "def encode_sentence(s):\n",
    "    tokens = list(tokenizer.tokenize(s))\n",
    "    tokens.append('[SEP]')\n",
    "    return torch.tensor(tokenizer.convert_tokens_to_ids(tokens))"
   ]
  },
  {
   "cell_type": "code",
   "execution_count": 15,
   "id": "0550693a",
   "metadata": {
    "execution": {
     "iopub.execute_input": "2022-06-12T16:53:27.026747Z",
     "iopub.status.busy": "2022-06-12T16:53:27.026484Z",
     "iopub.status.idle": "2022-06-12T16:53:27.035135Z",
     "shell.execute_reply": "2022-06-12T16:53:27.034467Z"
    },
    "papermill": {
     "duration": 0.023647,
     "end_time": "2022-06-12T16:53:27.036705",
     "exception": false,
     "start_time": "2022-06-12T16:53:27.013058",
     "status": "completed"
    },
    "tags": []
   },
   "outputs": [],
   "source": [
    "# get max length of the encoded trainset, testset\n",
    "# input type: (pd.dataframe, pd.dataframe, tokenizer)\n",
    "# output type: int\n",
    "def get_encode_max_len(trainset, testset, tokenizer):\n",
    "    h_train, p_train = trainset.hypothesis.values, trainset.premise.values\n",
    "    h_test, p_test = testset.hypothesis.values, testset.premise.values\n",
    "\n",
    "    num_examples = len(h_train)\n",
    "    cls_tokenized = torch.tensor([tokenizer.convert_tokens_to_ids(['[CLS]'])] * num_examples)\n",
    "\n",
    "    s_len=torch.zeros(num_examples)\n",
    "    for i, c, h, p in zip(range(num_examples), cls_tokenized, h_train, p_train):\n",
    "        concated = torch.cat([c, encode_sentence(h), encode_sentence(p)], dim=-1)\n",
    "        s_len[i] = len(concated)\n",
    "    max_len = torch.max(s_len)\n",
    "    \n",
    "    s_len=torch.zeros(num_examples)\n",
    "    for i, c, h, p in zip(range(num_examples), cls_tokenized, h_test, p_test):\n",
    "        concated = torch.cat([c, encode_sentence(h), encode_sentence(p)], dim=-1)\n",
    "        s_len[i] = len(concated)\n",
    "    \n",
    "    if max_len < torch.max(s_len):\n",
    "        max_len = torch.max(s_len)\n",
    "    \n",
    "    return int(max_len)"
   ]
  },
  {
   "cell_type": "code",
   "execution_count": 16,
   "id": "06f95007",
   "metadata": {
    "execution": {
     "iopub.execute_input": "2022-06-12T16:53:27.062817Z",
     "iopub.status.busy": "2022-06-12T16:53:27.062574Z",
     "iopub.status.idle": "2022-06-12T16:53:27.074946Z",
     "shell.execute_reply": "2022-06-12T16:53:27.071732Z"
    },
    "papermill": {
     "duration": 0.030332,
     "end_time": "2022-06-12T16:53:27.079638",
     "exception": false,
     "start_time": "2022-06-12T16:53:27.049306",
     "status": "completed"
    },
    "tags": []
   },
   "outputs": [],
   "source": [
    "# encoding datasets to BERT input form\n",
    "# use zero-padding to make the sentence length equal\n",
    "# BERT input form: [CLS] hypothesis [SEP] premise [SEP]\n",
    "def bert_encode(hypotheses, premises, tokenizer, encode_max_len, config, labels=None):\n",
    "    num_examples = len(hypotheses)\n",
    "    cls_tokenized = torch.tensor([tokenizer.convert_tokens_to_ids(['[CLS]'])] * num_examples)\n",
    "\n",
    "    input_word_ids = torch.zeros(num_examples, encode_max_len)\n",
    "    input_mask = torch.zeros_like(input_word_ids)\n",
    "    input_type_ids = torch.zeros_like(input_word_ids)\n",
    "    \n",
    "    for i, c, h, p in zip(range(num_examples), cls_tokenized, hypotheses, premises):\n",
    "        # input_word_ids, input mask\n",
    "        encoded_h, encoded_p = encode_sentence(h), encode_sentence(p)\n",
    "        concated = torch.cat([c, encoded_h, encoded_p], dim=-1)\n",
    "        input_word_ids[i,:len(concated)] = concated\n",
    "        input_mask[i,:len(concated)] = 1\n",
    "        \n",
    "        # input_type_ids\n",
    "        type_c = torch.zeros_like(c)\n",
    "        type_h = torch.zeros_like(encoded_h)\n",
    "        type_p = torch.ones_like(encoded_p)\n",
    "        concated = torch.cat([type_c, type_h, type_p], dim=-1)\n",
    "        input_type_ids[i, :len(concated)] = concated\n",
    "\n",
    "    bert_input = {\n",
    "        'input_word_ids': input_word_ids,\n",
    "        'input_mask': input_mask,\n",
    "        'input_type_ids': input_type_ids}\n",
    "    \n",
    "    if labels is not None:\n",
    "        # one-hot encoding\n",
    "        label = torch.tensor(train.label.values)\n",
    "        input_label = torch.zeros(num_examples, config.label_num)\n",
    "        for i in range(num_examples):\n",
    "            input_label[i, label[i]] = 1\n",
    "        bert_input['input_label'] = input_label\n",
    "\n",
    "    return bert_input"
   ]
  },
  {
   "cell_type": "code",
   "execution_count": 17,
   "id": "fbf8022f",
   "metadata": {
    "execution": {
     "iopub.execute_input": "2022-06-12T16:53:27.124523Z",
     "iopub.status.busy": "2022-06-12T16:53:27.124029Z",
     "iopub.status.idle": "2022-06-12T16:53:55.376395Z",
     "shell.execute_reply": "2022-06-12T16:53:55.375469Z"
    },
    "papermill": {
     "duration": 28.275981,
     "end_time": "2022-06-12T16:53:55.378381",
     "exception": false,
     "start_time": "2022-06-12T16:53:27.102400",
     "status": "completed"
    },
    "tags": []
   },
   "outputs": [],
   "source": [
    "encode_max_len = get_encode_max_len(train, test, tokenizer)\n",
    "\n",
    "# encoding input dataset\n",
    "train_input = bert_encode(train.hypothesis.values, train.premise.values, tokenizer, encode_max_len, configs, labels=train.label.values)\n",
    "\n",
    "val_input = bert_encode(val.hypothesis.values, val.premise.values, tokenizer, encode_max_len, configs, labels=val.label.values)"
   ]
  },
  {
   "cell_type": "code",
   "execution_count": 18,
   "id": "b0af6f64",
   "metadata": {
    "execution": {
     "iopub.execute_input": "2022-06-12T16:53:55.406374Z",
     "iopub.status.busy": "2022-06-12T16:53:55.405807Z",
     "iopub.status.idle": "2022-06-12T16:53:55.417988Z",
     "shell.execute_reply": "2022-06-12T16:53:55.417159Z"
    },
    "papermill": {
     "duration": 0.028525,
     "end_time": "2022-06-12T16:53:55.420725",
     "exception": false,
     "start_time": "2022-06-12T16:53:55.392200",
     "status": "completed"
    },
    "tags": []
   },
   "outputs": [
    {
     "name": "stdout",
     "output_type": "stream",
     "text": [
      "torch.Size([9696, 259])\n",
      "torch.Size([9696, 259])\n",
      "torch.Size([9696, 259])\n",
      "\n",
      "You're originally from Texas?\n",
      "are you originally from uh Texas\n",
      "tensor([11065,   112, 11639, 15556, 10188, 12466,   136,   102])\n",
      "tensor([10301, 13028, 15556, 10188,   189, 10237, 12466,   102])\n",
      "tensor([  101., 11065.,   112., 11639., 15556., 10188., 12466.,   136.,   102.,\n",
      "        10301., 13028., 15556., 10188.,   189., 10237., 12466.,   102.,     0.,\n",
      "            0.,     0.,     0.,     0.,     0.,     0.,     0.,     0.,     0.,\n",
      "            0.,     0.,     0.,     0.,     0.,     0.,     0.,     0.,     0.,\n",
      "            0.,     0.,     0.,     0.,     0.,     0.,     0.,     0.,     0.,\n",
      "            0.,     0.,     0.,     0.,     0.,     0.,     0.,     0.,     0.,\n",
      "            0.,     0.,     0.,     0.,     0.,     0.,     0.,     0.,     0.,\n",
      "            0.,     0.,     0.,     0.,     0.,     0.,     0.,     0.,     0.,\n",
      "            0.,     0.,     0.,     0.,     0.,     0.,     0.,     0.,     0.,\n",
      "            0.,     0.,     0.,     0.,     0.,     0.,     0.,     0.,     0.,\n",
      "            0.,     0.,     0.,     0.,     0.,     0.,     0.,     0.,     0.,\n",
      "            0.,     0.,     0.,     0.,     0.,     0.,     0.,     0.,     0.,\n",
      "            0.,     0.,     0.,     0.,     0.,     0.,     0.,     0.,     0.,\n",
      "            0.,     0.,     0.,     0.,     0.,     0.,     0.,     0.,     0.,\n",
      "            0.,     0.,     0.,     0.,     0.,     0.,     0.,     0.,     0.,\n",
      "            0.,     0.,     0.,     0.,     0.,     0.,     0.,     0.,     0.,\n",
      "            0.,     0.,     0.,     0.,     0.,     0.,     0.,     0.,     0.,\n",
      "            0.,     0.,     0.,     0.,     0.,     0.,     0.,     0.,     0.,\n",
      "            0.,     0.,     0.,     0.,     0.,     0.,     0.,     0.,     0.,\n",
      "            0.,     0.,     0.,     0.,     0.,     0.,     0.,     0.,     0.,\n",
      "            0.,     0.,     0.,     0.,     0.,     0.,     0.,     0.,     0.,\n",
      "            0.,     0.,     0.,     0.,     0.,     0.,     0.,     0.,     0.,\n",
      "            0.,     0.,     0.,     0.,     0.,     0.,     0.,     0.,     0.,\n",
      "            0.,     0.,     0.,     0.,     0.,     0.,     0.,     0.,     0.,\n",
      "            0.,     0.,     0.,     0.,     0.,     0.,     0.,     0.,     0.,\n",
      "            0.,     0.,     0.,     0.,     0.,     0.,     0.,     0.,     0.,\n",
      "            0.,     0.,     0.,     0.,     0.,     0.,     0.,     0.,     0.,\n",
      "            0.,     0.,     0.,     0.,     0.,     0.,     0.,     0.,     0.,\n",
      "            0.,     0.,     0.,     0.,     0.,     0.,     0.]) torch.Size([259])\n",
      "tensor([1., 1., 1., 1., 1., 1., 1., 1., 1., 1., 1., 1., 1., 1., 1., 1., 1., 0.,\n",
      "        0., 0., 0., 0., 0., 0., 0., 0., 0., 0., 0., 0., 0., 0., 0., 0., 0., 0.,\n",
      "        0., 0., 0., 0., 0., 0., 0., 0., 0., 0., 0., 0., 0., 0., 0., 0., 0., 0.,\n",
      "        0., 0., 0., 0., 0., 0., 0., 0., 0., 0., 0., 0., 0., 0., 0., 0., 0., 0.,\n",
      "        0., 0., 0., 0., 0., 0., 0., 0., 0., 0., 0., 0., 0., 0., 0., 0., 0., 0.,\n",
      "        0., 0., 0., 0., 0., 0., 0., 0., 0., 0., 0., 0., 0., 0., 0., 0., 0., 0.,\n",
      "        0., 0., 0., 0., 0., 0., 0., 0., 0., 0., 0., 0., 0., 0., 0., 0., 0., 0.,\n",
      "        0., 0., 0., 0., 0., 0., 0., 0., 0., 0., 0., 0., 0., 0., 0., 0., 0., 0.,\n",
      "        0., 0., 0., 0., 0., 0., 0., 0., 0., 0., 0., 0., 0., 0., 0., 0., 0., 0.,\n",
      "        0., 0., 0., 0., 0., 0., 0., 0., 0., 0., 0., 0., 0., 0., 0., 0., 0., 0.,\n",
      "        0., 0., 0., 0., 0., 0., 0., 0., 0., 0., 0., 0., 0., 0., 0., 0., 0., 0.,\n",
      "        0., 0., 0., 0., 0., 0., 0., 0., 0., 0., 0., 0., 0., 0., 0., 0., 0., 0.,\n",
      "        0., 0., 0., 0., 0., 0., 0., 0., 0., 0., 0., 0., 0., 0., 0., 0., 0., 0.,\n",
      "        0., 0., 0., 0., 0., 0., 0., 0., 0., 0., 0., 0., 0., 0., 0., 0., 0., 0.,\n",
      "        0., 0., 0., 0., 0., 0., 0.]) torch.Size([259])\n",
      "tensor([0., 0., 0., 0., 0., 0., 0., 0., 0., 1., 1., 1., 1., 1., 1., 1., 1., 0.,\n",
      "        0., 0., 0., 0., 0., 0., 0., 0., 0., 0., 0., 0., 0., 0., 0., 0., 0., 0.,\n",
      "        0., 0., 0., 0., 0., 0., 0., 0., 0., 0., 0., 0., 0., 0., 0., 0., 0., 0.,\n",
      "        0., 0., 0., 0., 0., 0., 0., 0., 0., 0., 0., 0., 0., 0., 0., 0., 0., 0.,\n",
      "        0., 0., 0., 0., 0., 0., 0., 0., 0., 0., 0., 0., 0., 0., 0., 0., 0., 0.,\n",
      "        0., 0., 0., 0., 0., 0., 0., 0., 0., 0., 0., 0., 0., 0., 0., 0., 0., 0.,\n",
      "        0., 0., 0., 0., 0., 0., 0., 0., 0., 0., 0., 0., 0., 0., 0., 0., 0., 0.,\n",
      "        0., 0., 0., 0., 0., 0., 0., 0., 0., 0., 0., 0., 0., 0., 0., 0., 0., 0.,\n",
      "        0., 0., 0., 0., 0., 0., 0., 0., 0., 0., 0., 0., 0., 0., 0., 0., 0., 0.,\n",
      "        0., 0., 0., 0., 0., 0., 0., 0., 0., 0., 0., 0., 0., 0., 0., 0., 0., 0.,\n",
      "        0., 0., 0., 0., 0., 0., 0., 0., 0., 0., 0., 0., 0., 0., 0., 0., 0., 0.,\n",
      "        0., 0., 0., 0., 0., 0., 0., 0., 0., 0., 0., 0., 0., 0., 0., 0., 0., 0.,\n",
      "        0., 0., 0., 0., 0., 0., 0., 0., 0., 0., 0., 0., 0., 0., 0., 0., 0., 0.,\n",
      "        0., 0., 0., 0., 0., 0., 0., 0., 0., 0., 0., 0., 0., 0., 0., 0., 0., 0.,\n",
      "        0., 0., 0., 0., 0., 0., 0.]) torch.Size([259])\n",
      "tensor([1., 0., 0.]) torch.Size([3])\n"
     ]
    }
   ],
   "source": [
    "# check the value\n",
    "print(train_input['input_word_ids'].shape)\n",
    "print(train_input['input_mask'].shape)\n",
    "print(train_input['input_type_ids'].shape)\n",
    "print()\n",
    "print(train.hypothesis[0])\n",
    "print(train.premise[0])\n",
    "print(encode_sentence(train.hypothesis[0]))\n",
    "print(encode_sentence(train.premise[0]))\n",
    "print(train_input['input_word_ids'][0], train_input['input_word_ids'][0].shape)\n",
    "print(train_input['input_mask'][0], train_input['input_mask'][0].shape)\n",
    "print(train_input['input_type_ids'][0], train_input['input_type_ids'][0].shape)\n",
    "print(train_input['input_label'][0], train_input['input_label'][0].shape)"
   ]
  },
  {
   "cell_type": "code",
   "execution_count": 19,
   "id": "c7153bda",
   "metadata": {
    "execution": {
     "iopub.execute_input": "2022-06-12T16:53:55.449188Z",
     "iopub.status.busy": "2022-06-12T16:53:55.448924Z",
     "iopub.status.idle": "2022-06-12T16:53:55.461737Z",
     "shell.execute_reply": "2022-06-12T16:53:55.460814Z"
    },
    "papermill": {
     "duration": 0.028949,
     "end_time": "2022-06-12T16:53:55.463989",
     "exception": false,
     "start_time": "2022-06-12T16:53:55.435040",
     "status": "completed"
    },
    "tags": []
   },
   "outputs": [
    {
     "name": "stdout",
     "output_type": "stream",
     "text": [
      "torch.Size([2424, 259])\n",
      "torch.Size([2424, 259])\n",
      "torch.Size([2424, 259])\n",
      "\n",
      "J'essayais d'accomplir quelque chose.\n",
      "Des petites choses comme celles-là font une différence énorme dans ce que j'essaye de faire.\n",
      "tensor([  147,   112, 62382, 12985,   172,   112, 13621, 22530, 94086, 40031,\n",
      "        25720,   119,   102])\n",
      "tensor([13810, 32181, 65533, 10986, 29069,   118, 10331, 18903, 10231, 59583,\n",
      "        14238, 54576, 10260, 10794, 10121,   178,   112, 62382, 10112, 10104,\n",
      "        14131,   119,   102])\n",
      "tensor([  101.,   147.,   112., 62382., 12985.,   172.,   112., 13621., 22530.,\n",
      "        94086., 40031., 25720.,   119.,   102., 13810., 32181., 65533., 10986.,\n",
      "        29069.,   118., 10331., 18903., 10231., 59583., 14238., 54576., 10260.,\n",
      "        10794., 10121.,   178.,   112., 62382., 10112., 10104., 14131.,   119.,\n",
      "          102.,     0.,     0.,     0.,     0.,     0.,     0.,     0.,     0.,\n",
      "            0.,     0.,     0.,     0.,     0.,     0.,     0.,     0.,     0.,\n",
      "            0.,     0.,     0.,     0.,     0.,     0.,     0.,     0.,     0.,\n",
      "            0.,     0.,     0.,     0.,     0.,     0.,     0.,     0.,     0.,\n",
      "            0.,     0.,     0.,     0.,     0.,     0.,     0.,     0.,     0.,\n",
      "            0.,     0.,     0.,     0.,     0.,     0.,     0.,     0.,     0.,\n",
      "            0.,     0.,     0.,     0.,     0.,     0.,     0.,     0.,     0.,\n",
      "            0.,     0.,     0.,     0.,     0.,     0.,     0.,     0.,     0.,\n",
      "            0.,     0.,     0.,     0.,     0.,     0.,     0.,     0.,     0.,\n",
      "            0.,     0.,     0.,     0.,     0.,     0.,     0.,     0.,     0.,\n",
      "            0.,     0.,     0.,     0.,     0.,     0.,     0.,     0.,     0.,\n",
      "            0.,     0.,     0.,     0.,     0.,     0.,     0.,     0.,     0.,\n",
      "            0.,     0.,     0.,     0.,     0.,     0.,     0.,     0.,     0.,\n",
      "            0.,     0.,     0.,     0.,     0.,     0.,     0.,     0.,     0.,\n",
      "            0.,     0.,     0.,     0.,     0.,     0.,     0.,     0.,     0.,\n",
      "            0.,     0.,     0.,     0.,     0.,     0.,     0.,     0.,     0.,\n",
      "            0.,     0.,     0.,     0.,     0.,     0.,     0.,     0.,     0.,\n",
      "            0.,     0.,     0.,     0.,     0.,     0.,     0.,     0.,     0.,\n",
      "            0.,     0.,     0.,     0.,     0.,     0.,     0.,     0.,     0.,\n",
      "            0.,     0.,     0.,     0.,     0.,     0.,     0.,     0.,     0.,\n",
      "            0.,     0.,     0.,     0.,     0.,     0.,     0.,     0.,     0.,\n",
      "            0.,     0.,     0.,     0.,     0.,     0.,     0.,     0.,     0.,\n",
      "            0.,     0.,     0.,     0.,     0.,     0.,     0.,     0.,     0.,\n",
      "            0.,     0.,     0.,     0.,     0.,     0.,     0.,     0.,     0.,\n",
      "            0.,     0.,     0.,     0.,     0.,     0.,     0.]) torch.Size([259])\n",
      "tensor([1., 1., 1., 1., 1., 1., 1., 1., 1., 1., 1., 1., 1., 1., 1., 1., 1., 1.,\n",
      "        1., 1., 1., 1., 1., 1., 1., 1., 1., 1., 1., 1., 1., 1., 1., 1., 1., 1.,\n",
      "        1., 0., 0., 0., 0., 0., 0., 0., 0., 0., 0., 0., 0., 0., 0., 0., 0., 0.,\n",
      "        0., 0., 0., 0., 0., 0., 0., 0., 0., 0., 0., 0., 0., 0., 0., 0., 0., 0.,\n",
      "        0., 0., 0., 0., 0., 0., 0., 0., 0., 0., 0., 0., 0., 0., 0., 0., 0., 0.,\n",
      "        0., 0., 0., 0., 0., 0., 0., 0., 0., 0., 0., 0., 0., 0., 0., 0., 0., 0.,\n",
      "        0., 0., 0., 0., 0., 0., 0., 0., 0., 0., 0., 0., 0., 0., 0., 0., 0., 0.,\n",
      "        0., 0., 0., 0., 0., 0., 0., 0., 0., 0., 0., 0., 0., 0., 0., 0., 0., 0.,\n",
      "        0., 0., 0., 0., 0., 0., 0., 0., 0., 0., 0., 0., 0., 0., 0., 0., 0., 0.,\n",
      "        0., 0., 0., 0., 0., 0., 0., 0., 0., 0., 0., 0., 0., 0., 0., 0., 0., 0.,\n",
      "        0., 0., 0., 0., 0., 0., 0., 0., 0., 0., 0., 0., 0., 0., 0., 0., 0., 0.,\n",
      "        0., 0., 0., 0., 0., 0., 0., 0., 0., 0., 0., 0., 0., 0., 0., 0., 0., 0.,\n",
      "        0., 0., 0., 0., 0., 0., 0., 0., 0., 0., 0., 0., 0., 0., 0., 0., 0., 0.,\n",
      "        0., 0., 0., 0., 0., 0., 0., 0., 0., 0., 0., 0., 0., 0., 0., 0., 0., 0.,\n",
      "        0., 0., 0., 0., 0., 0., 0.]) torch.Size([259])\n",
      "tensor([0., 0., 0., 0., 0., 0., 0., 0., 0., 0., 0., 0., 0., 0., 1., 1., 1., 1.,\n",
      "        1., 1., 1., 1., 1., 1., 1., 1., 1., 1., 1., 1., 1., 1., 1., 1., 1., 1.,\n",
      "        1., 0., 0., 0., 0., 0., 0., 0., 0., 0., 0., 0., 0., 0., 0., 0., 0., 0.,\n",
      "        0., 0., 0., 0., 0., 0., 0., 0., 0., 0., 0., 0., 0., 0., 0., 0., 0., 0.,\n",
      "        0., 0., 0., 0., 0., 0., 0., 0., 0., 0., 0., 0., 0., 0., 0., 0., 0., 0.,\n",
      "        0., 0., 0., 0., 0., 0., 0., 0., 0., 0., 0., 0., 0., 0., 0., 0., 0., 0.,\n",
      "        0., 0., 0., 0., 0., 0., 0., 0., 0., 0., 0., 0., 0., 0., 0., 0., 0., 0.,\n",
      "        0., 0., 0., 0., 0., 0., 0., 0., 0., 0., 0., 0., 0., 0., 0., 0., 0., 0.,\n",
      "        0., 0., 0., 0., 0., 0., 0., 0., 0., 0., 0., 0., 0., 0., 0., 0., 0., 0.,\n",
      "        0., 0., 0., 0., 0., 0., 0., 0., 0., 0., 0., 0., 0., 0., 0., 0., 0., 0.,\n",
      "        0., 0., 0., 0., 0., 0., 0., 0., 0., 0., 0., 0., 0., 0., 0., 0., 0., 0.,\n",
      "        0., 0., 0., 0., 0., 0., 0., 0., 0., 0., 0., 0., 0., 0., 0., 0., 0., 0.,\n",
      "        0., 0., 0., 0., 0., 0., 0., 0., 0., 0., 0., 0., 0., 0., 0., 0., 0., 0.,\n",
      "        0., 0., 0., 0., 0., 0., 0., 0., 0., 0., 0., 0., 0., 0., 0., 0., 0., 0.,\n",
      "        0., 0., 0., 0., 0., 0., 0.]) torch.Size([259])\n",
      "tensor([1., 0., 0.]) torch.Size([3])\n"
     ]
    }
   ],
   "source": [
    "# check the value\n",
    "print(val_input['input_word_ids'].shape)\n",
    "print(val_input['input_mask'].shape)\n",
    "print(val_input['input_type_ids'].shape)\n",
    "print()\n",
    "print(val.hypothesis[0])\n",
    "print(val.premise[0])\n",
    "print(encode_sentence(val.hypothesis[0]))\n",
    "print(encode_sentence(val.premise[0]))\n",
    "print(val_input['input_word_ids'][0], val_input['input_word_ids'][0].shape)\n",
    "print(val_input['input_mask'][0], val_input['input_mask'][0].shape)\n",
    "print(val_input['input_type_ids'][0], val_input['input_type_ids'][0].shape)\n",
    "print(val_input['input_label'][0], val_input['input_label'][0].shape)"
   ]
  },
  {
   "cell_type": "markdown",
   "id": "b6a03de3",
   "metadata": {
    "papermill": {
     "duration": 0.012707,
     "end_time": "2022-06-12T16:53:55.489708",
     "exception": false,
     "start_time": "2022-06-12T16:53:55.477001",
     "status": "completed"
    },
    "tags": []
   },
   "source": [
    "## Build Dataloader"
   ]
  },
  {
   "cell_type": "code",
   "execution_count": 20,
   "id": "509fa43c",
   "metadata": {
    "execution": {
     "iopub.execute_input": "2022-06-12T16:53:55.517853Z",
     "iopub.status.busy": "2022-06-12T16:53:55.517596Z",
     "iopub.status.idle": "2022-06-12T16:53:55.523179Z",
     "shell.execute_reply": "2022-06-12T16:53:55.522438Z"
    },
    "papermill": {
     "duration": 0.021292,
     "end_time": "2022-06-12T16:53:55.524773",
     "exception": false,
     "start_time": "2022-06-12T16:53:55.503481",
     "status": "completed"
    },
    "tags": []
   },
   "outputs": [],
   "source": [
    "# get dataloader for training\n",
    "train_dataset_tensor = TensorDataset(train_input['input_word_ids'],\n",
    "                                     train_input['input_mask'],\n",
    "                                     train_input['input_type_ids'],\n",
    "                                     train_input['input_label'])\n",
    "\n",
    "train_dataloader = DataLoader(train_dataset_tensor,\n",
    "                              sampler=RandomSampler(train_dataset_tensor), \n",
    "                              batch_size=configs.batch_size)\n",
    "\n",
    "val_dataset_tensor = TensorDataset(val_input['input_word_ids'],\n",
    "                                   val_input['input_mask'],\n",
    "                                   val_input['input_type_ids'],\n",
    "                                   val_input['input_label'])\n",
    "\n",
    "val_dataloader = DataLoader(val_dataset_tensor,\n",
    "                            sampler=RandomSampler(val_dataset_tensor), \n",
    "                            batch_size=configs.batch_size)"
   ]
  },
  {
   "cell_type": "markdown",
   "id": "cdff580f",
   "metadata": {
    "papermill": {
     "duration": 0.013061,
     "end_time": "2022-06-12T16:53:55.551077",
     "exception": false,
     "start_time": "2022-06-12T16:53:55.538016",
     "status": "completed"
    },
    "tags": []
   },
   "source": [
    "## Get BERT model"
   ]
  },
  {
   "cell_type": "code",
   "execution_count": 21,
   "id": "6c342d67",
   "metadata": {
    "execution": {
     "iopub.execute_input": "2022-06-12T16:53:55.578204Z",
     "iopub.status.busy": "2022-06-12T16:53:55.577948Z",
     "iopub.status.idle": "2022-06-12T16:54:35.816496Z",
     "shell.execute_reply": "2022-06-12T16:54:35.814495Z"
    },
    "papermill": {
     "duration": 40.255818,
     "end_time": "2022-06-12T16:54:35.819892",
     "exception": false,
     "start_time": "2022-06-12T16:53:55.564074",
     "status": "completed"
    },
    "tags": []
   },
   "outputs": [
    {
     "data": {
      "application/vnd.jupyter.widget-view+json": {
       "model_id": "407dc14226b94d699bb2a45c6e0f57ea",
       "version_major": 2,
       "version_minor": 0
      },
      "text/plain": [
       "Downloading:   0%|          | 0.00/681M [00:00<?, ?B/s]"
      ]
     },
     "metadata": {},
     "output_type": "display_data"
    },
    {
     "name": "stderr",
     "output_type": "stream",
     "text": [
      "Some weights of the model checkpoint at bert-base-multilingual-cased were not used when initializing BertForSequenceClassification: ['cls.predictions.transform.dense.weight', 'cls.predictions.decoder.weight', 'cls.predictions.transform.LayerNorm.weight', 'cls.predictions.transform.LayerNorm.bias', 'cls.seq_relationship.weight', 'cls.predictions.bias', 'cls.seq_relationship.bias', 'cls.predictions.transform.dense.bias']\n",
      "- This IS expected if you are initializing BertForSequenceClassification from the checkpoint of a model trained on another task or with another architecture (e.g. initializing a BertForSequenceClassification model from a BertForPreTraining model).\n",
      "- This IS NOT expected if you are initializing BertForSequenceClassification from the checkpoint of a model that you expect to be exactly identical (initializing a BertForSequenceClassification model from a BertForSequenceClassification model).\n",
      "Some weights of BertForSequenceClassification were not initialized from the model checkpoint at bert-base-multilingual-cased and are newly initialized: ['classifier.bias', 'classifier.weight']\n",
      "You should probably TRAIN this model on a down-stream task to be able to use it for predictions and inference.\n"
     ]
    },
    {
     "name": "stdout",
     "output_type": "stream",
     "text": [
      "model config\n",
      "BertConfig {\n",
      "  \"_name_or_path\": \"bert-base-multilingual-cased\",\n",
      "  \"architectures\": [\n",
      "    \"BertForMaskedLM\"\n",
      "  ],\n",
      "  \"attention_probs_dropout_prob\": 0.1,\n",
      "  \"classifier_dropout\": null,\n",
      "  \"directionality\": \"bidi\",\n",
      "  \"hidden_act\": \"gelu\",\n",
      "  \"hidden_dropout_prob\": 0.1,\n",
      "  \"hidden_size\": 768,\n",
      "  \"id2label\": {\n",
      "    \"0\": \"LABEL_0\",\n",
      "    \"1\": \"LABEL_1\",\n",
      "    \"2\": \"LABEL_2\"\n",
      "  },\n",
      "  \"initializer_range\": 0.02,\n",
      "  \"intermediate_size\": 3072,\n",
      "  \"label2id\": {\n",
      "    \"LABEL_0\": 0,\n",
      "    \"LABEL_1\": 1,\n",
      "    \"LABEL_2\": 2\n",
      "  },\n",
      "  \"layer_norm_eps\": 1e-12,\n",
      "  \"max_position_embeddings\": 512,\n",
      "  \"model_type\": \"bert\",\n",
      "  \"num_attention_heads\": 12,\n",
      "  \"num_hidden_layers\": 12,\n",
      "  \"pad_token_id\": 0,\n",
      "  \"pooler_fc_size\": 768,\n",
      "  \"pooler_num_attention_heads\": 12,\n",
      "  \"pooler_num_fc_layers\": 3,\n",
      "  \"pooler_size_per_head\": 128,\n",
      "  \"pooler_type\": \"first_token_transform\",\n",
      "  \"position_embedding_type\": \"absolute\",\n",
      "  \"problem_type\": \"multi_label_classification\",\n",
      "  \"transformers_version\": \"4.18.0\",\n",
      "  \"type_vocab_size\": 2,\n",
      "  \"use_cache\": true,\n",
      "  \"vocab_size\": 119547\n",
      "}\n",
      "\n"
     ]
    }
   ],
   "source": [
    "model = BertForSequenceClassification.from_pretrained(\n",
    "    configs.model_name_or_path, num_labels=configs.label_num,\n",
    "    problem_type=configs.problem_type)\n",
    "\n",
    "model.to(configs.device)\n",
    "\n",
    "print('model config')\n",
    "print(model.config)"
   ]
  },
  {
   "cell_type": "code",
   "execution_count": 22,
   "id": "ab8adf96",
   "metadata": {
    "execution": {
     "iopub.execute_input": "2022-06-12T16:54:35.856443Z",
     "iopub.status.busy": "2022-06-12T16:54:35.855636Z",
     "iopub.status.idle": "2022-06-12T16:54:35.862814Z",
     "shell.execute_reply": "2022-06-12T16:54:35.861969Z"
    },
    "papermill": {
     "duration": 0.027859,
     "end_time": "2022-06-12T16:54:35.864713",
     "exception": false,
     "start_time": "2022-06-12T16:54:35.836854",
     "status": "completed"
    },
    "tags": []
   },
   "outputs": [],
   "source": [
    "# use AdamW optimizer\n",
    "optimizer = torch.optim.AdamW(model.parameters(), lr=configs.lr, eps=configs.eps)"
   ]
  },
  {
   "cell_type": "markdown",
   "id": "be6eee73",
   "metadata": {
    "papermill": {
     "duration": 0.016304,
     "end_time": "2022-06-12T16:54:35.896002",
     "exception": false,
     "start_time": "2022-06-12T16:54:35.879698",
     "status": "completed"
    },
    "tags": []
   },
   "source": [
    "## Training"
   ]
  },
  {
   "cell_type": "code",
   "execution_count": 23,
   "id": "6e5d9844",
   "metadata": {
    "execution": {
     "iopub.execute_input": "2022-06-12T16:54:35.930594Z",
     "iopub.status.busy": "2022-06-12T16:54:35.930260Z",
     "iopub.status.idle": "2022-06-12T16:54:35.936034Z",
     "shell.execute_reply": "2022-06-12T16:54:35.934909Z"
    },
    "papermill": {
     "duration": 0.027299,
     "end_time": "2022-06-12T16:54:35.938509",
     "exception": false,
     "start_time": "2022-06-12T16:54:35.911210",
     "status": "completed"
    },
    "tags": []
   },
   "outputs": [],
   "source": [
    "# make accuracy using two prediction and ground truth\n",
    "def get_acc(pred, gt):\n",
    "    correct = 0\n",
    "    for p, g in zip(pred, gt):\n",
    "        if p == g:\n",
    "            correct += 1\n",
    "    \n",
    "    acc = correct / len(pred)\n",
    "    \n",
    "    return acc"
   ]
  },
  {
   "cell_type": "code",
   "execution_count": 24,
   "id": "7938fed5",
   "metadata": {
    "execution": {
     "iopub.execute_input": "2022-06-12T16:54:35.975386Z",
     "iopub.status.busy": "2022-06-12T16:54:35.974979Z",
     "iopub.status.idle": "2022-06-12T17:10:10.491070Z",
     "shell.execute_reply": "2022-06-12T17:10:10.490243Z"
    },
    "papermill": {
     "duration": 934.759315,
     "end_time": "2022-06-12T17:10:10.715540",
     "exception": false,
     "start_time": "2022-06-12T16:54:35.956225",
     "status": "completed"
    },
    "tags": []
   },
   "outputs": [
    {
     "name": "stderr",
     "output_type": "stream",
     "text": [
      "100%|██████████| 1212/1212 [04:51<00:00,  4.16it/s]\n"
     ]
    },
    {
     "name": "stdout",
     "output_type": "stream",
     "text": [
      " 1 epoch train loss :   0.543\n",
      " 1 epoch train accuracy :   0.574\n",
      " 1 epoch validation loss :   0.771\n",
      " 1 epoch validation accuracy :   0.335\n"
     ]
    },
    {
     "name": "stderr",
     "output_type": "stream",
     "text": [
      "100%|██████████| 1212/1212 [04:50<00:00,  4.17it/s]\n"
     ]
    },
    {
     "name": "stdout",
     "output_type": "stream",
     "text": [
      " 2 epoch train loss :   0.398\n",
      " 2 epoch train accuracy :   0.727\n",
      " 2 epoch validation loss :   1.065\n",
      " 2 epoch validation accuracy :   0.332\n"
     ]
    },
    {
     "name": "stderr",
     "output_type": "stream",
     "text": [
      "100%|██████████| 1212/1212 [04:50<00:00,  4.18it/s]\n"
     ]
    },
    {
     "name": "stdout",
     "output_type": "stream",
     "text": [
      " 3 epoch train loss :   0.259\n",
      " 3 epoch train accuracy :   0.847\n",
      " 3 epoch validation loss :   1.249\n",
      " 3 epoch validation accuracy :   0.330\n"
     ]
    }
   ],
   "source": [
    "# lr decay\n",
    "scheduler = get_linear_schedule_with_warmup(\n",
    "    optimizer, num_warmup_steps=0, num_training_steps=len(train_dataloader)*configs.epochs)\n",
    "\n",
    "for epoch in range(configs.epochs):\n",
    "    # reset loss and accuracies\n",
    "    train_loss, train_acc, val_loss, val_acc = 0, 0, 0, 0\n",
    "\n",
    "    # training\n",
    "    model.train()\n",
    "    for step, batch in tqdm(enumerate(train_dataloader), total=len(train_dataloader)):\n",
    "        word_id, mask, type_id, label = batch\n",
    "\n",
    "        word_id = word_id.to(configs.device, dtype=torch.long)\n",
    "        mask = mask.to(configs.device, dtype=torch.long)\n",
    "        type_id = type_id.to(configs.device, dtype=torch.long)\n",
    "        label = label.to(configs.device)\n",
    "\n",
    "        # reset gradient\n",
    "        model.zero_grad()\n",
    "        # forward\n",
    "        outputs = model(word_id, mask, type_id, labels=label)\n",
    "\n",
    "        # get loss, acc\n",
    "        loss = outputs.loss\n",
    "        train_loss += loss.item()\n",
    "        pred = [torch.argmax(logit).cpu().detach().item() for logit in outputs.logits]\n",
    "        true = [torch.argmax(l).cpu().detach().item() for l in label]\n",
    "        train_acc += get_acc(pred, true)\n",
    "\n",
    "        loss.backward()\n",
    "        optimizer.step()\n",
    "        scheduler.step()\n",
    "\n",
    "        \n",
    "    # get average loss and accuracy\n",
    "    train_loss = train_loss / len(train_dataloader)\n",
    "    train_acc = train_acc / len(train_dataloader)\n",
    "\n",
    "    # validation\n",
    "    model.eval()\n",
    "    for step, batch in enumerate(val_dataloader):\n",
    "        word_id, mask, type_id, label = batch\n",
    "\n",
    "        word_id = word_id.to(configs.device, dtype=torch.long)\n",
    "        mask = mask.to(configs.device, dtype=torch.long)\n",
    "        type_id = type_id.to(configs.device, dtype=torch.long)\n",
    "        label = label.to(configs.device)\n",
    "        \n",
    "        with torch.no_grad():\n",
    "            # forward\n",
    "            outputs = model(word_id, mask, type_id, labels=label)\n",
    "\n",
    "        # get loss, acc\n",
    "        loss = outputs.loss\n",
    "        val_loss += loss\n",
    "        pred = [torch.argmax(logit).cpu().detach().item() for logit in outputs.logits]\n",
    "        true = [torch.argmax(l).cpu().detach().item() for l in label]\n",
    "        val_acc += get_acc(pred, true)\n",
    "    \n",
    "    val_loss = val_loss / len(val_dataloader)\n",
    "    val_acc = val_acc / len(val_dataloader)\n",
    "\n",
    "    print(f\" {epoch+1} epoch train loss :  {train_loss: .3f}\")\n",
    "    print(f\" {epoch+1} epoch train accuracy :  {train_acc: .3f}\")\n",
    "    print(f\" {epoch+1} epoch validation loss :  {val_loss: .3f}\")\n",
    "    print(f\" {epoch+1} epoch validation accuracy :  {val_acc: .3f}\")"
   ]
  },
  {
   "cell_type": "markdown",
   "id": "274dc896",
   "metadata": {
    "papermill": {
     "duration": 0.222573,
     "end_time": "2022-06-12T17:10:11.162252",
     "exception": false,
     "start_time": "2022-06-12T17:10:10.939679",
     "status": "completed"
    },
    "tags": []
   },
   "source": [
    "## Generating prediction"
   ]
  },
  {
   "cell_type": "code",
   "execution_count": 25,
   "id": "077e96cd",
   "metadata": {
    "execution": {
     "iopub.execute_input": "2022-06-12T17:10:11.609846Z",
     "iopub.status.busy": "2022-06-12T17:10:11.609163Z",
     "iopub.status.idle": "2022-06-12T17:10:16.991592Z",
     "shell.execute_reply": "2022-06-12T17:10:16.990774Z"
    },
    "papermill": {
     "duration": 5.608224,
     "end_time": "2022-06-12T17:10:16.993604",
     "exception": false,
     "start_time": "2022-06-12T17:10:11.385380",
     "status": "completed"
    },
    "tags": []
   },
   "outputs": [],
   "source": [
    "test_input = bert_encode(test.premise.values, test.hypothesis.values, tokenizer, encode_max_len, config=configs)"
   ]
  },
  {
   "cell_type": "code",
   "execution_count": 26,
   "id": "e1b9fc22",
   "metadata": {
    "execution": {
     "iopub.execute_input": "2022-06-12T17:10:17.436289Z",
     "iopub.status.busy": "2022-06-12T17:10:17.435946Z",
     "iopub.status.idle": "2022-06-12T17:10:17.440641Z",
     "shell.execute_reply": "2022-06-12T17:10:17.439891Z"
    },
    "papermill": {
     "duration": 0.226182,
     "end_time": "2022-06-12T17:10:17.442298",
     "exception": false,
     "start_time": "2022-06-12T17:10:17.216116",
     "status": "completed"
    },
    "tags": []
   },
   "outputs": [],
   "source": [
    "# get dataloader for test\n",
    "test_dataset_tensor = TensorDataset(test_input['input_word_ids'],\n",
    "                                    test_input['input_mask'],\n",
    "                                    test_input['input_type_ids'])\n",
    "\n",
    "test_dataloader = DataLoader(test_dataset_tensor,\n",
    "                             sampler=RandomSampler(test_dataset_tensor), \n",
    "                             batch_size=1)"
   ]
  },
  {
   "cell_type": "code",
   "execution_count": 27,
   "id": "336c2dca",
   "metadata": {
    "execution": {
     "iopub.execute_input": "2022-06-12T17:10:17.926082Z",
     "iopub.status.busy": "2022-06-12T17:10:17.925319Z",
     "iopub.status.idle": "2022-06-12T17:10:17.931852Z",
     "shell.execute_reply": "2022-06-12T17:10:17.931088Z"
    },
    "papermill": {
     "duration": 0.227901,
     "end_time": "2022-06-12T17:10:17.933644",
     "exception": false,
     "start_time": "2022-06-12T17:10:17.705743",
     "status": "completed"
    },
    "tags": []
   },
   "outputs": [
    {
     "name": "stdout",
     "output_type": "stream",
     "text": [
      "test data num: 5195\n"
     ]
    }
   ],
   "source": [
    "print('test data num:', len(test.premise.values))"
   ]
  },
  {
   "cell_type": "code",
   "execution_count": 28,
   "id": "41e6908c",
   "metadata": {
    "execution": {
     "iopub.execute_input": "2022-06-12T17:10:18.371318Z",
     "iopub.status.busy": "2022-06-12T17:10:18.370976Z",
     "iopub.status.idle": "2022-06-12T17:10:18.378432Z",
     "shell.execute_reply": "2022-06-12T17:10:18.377626Z"
    },
    "papermill": {
     "duration": 0.229212,
     "end_time": "2022-06-12T17:10:18.381461",
     "exception": false,
     "start_time": "2022-06-12T17:10:18.152249",
     "status": "completed"
    },
    "tags": []
   },
   "outputs": [
    {
     "name": "stdout",
     "output_type": "stream",
     "text": [
      "           id                                            premise  \\\n",
      "0  c6d58c3f69  بکس، کیسی، راہیل، یسعیاہ، کیلی، کیلی، اور کولم...   \n",
      "1  cefcc82292                             هذا هو ما تم نصحنا به.   \n",
      "2  e98005252c  et cela est en grande partie dû au fait que le...   \n",
      "3  58518c10ba                   与城市及其他公民及社区组织代表就IMA的艺术发展进行对话&amp   \n",
      "4  c32b0d16df                              Она все еще была там.   \n",
      "\n",
      "                                          hypothesis lang_abv language  \n",
      "0  کیسی کے لئے کوئی یادگار نہیں ہوگا, کولمین ہائی...       ur     Urdu  \n",
      "1  عندما يتم إخبارهم بما يجب عليهم فعله ، فشلت ال...       ar   Arabic  \n",
      "2                             Les mères se droguent.       fr   French  \n",
      "3                            IMA与其他组织合作，因为它们都依靠共享资金。       zh  Chinese  \n",
      "4     Мы думали, что она ушла, однако, она осталась.       ru  Russian  \n"
     ]
    }
   ],
   "source": [
    "# test dataset info\n",
    "print(test.head())"
   ]
  },
  {
   "cell_type": "code",
   "execution_count": 29,
   "id": "620a0be6",
   "metadata": {
    "execution": {
     "iopub.execute_input": "2022-06-12T17:10:18.829772Z",
     "iopub.status.busy": "2022-06-12T17:10:18.829388Z",
     "iopub.status.idle": "2022-06-12T17:11:22.555807Z",
     "shell.execute_reply": "2022-06-12T17:11:22.554984Z"
    },
    "papermill": {
     "duration": 63.947796,
     "end_time": "2022-06-12T17:11:22.557893",
     "exception": false,
     "start_time": "2022-06-12T17:10:18.610097",
     "status": "completed"
    },
    "tags": []
   },
   "outputs": [],
   "source": [
    "model.eval()\n",
    "preds = np.array([0 for _ in range(len(test_dataloader))], dtype=np.int64)\n",
    "with torch.no_grad():\n",
    "    for i, (step, batch) in zip(range(len(test_dataloader)), enumerate(test_dataloader)):\n",
    "        word_id, mask, type_id, = batch\n",
    "\n",
    "        word_id = word_id.to(configs.device, dtype=torch.long)\n",
    "        mask = mask.to(configs.device, dtype=torch.long)\n",
    "        type_id = type_id.to(configs.device, dtype=torch.long)\n",
    "        \n",
    "        # forward\n",
    "        logits = model(word_id, mask, type_id).logits\n",
    "    \n",
    "        preds[i] = np.argmax(logits.cpu())"
   ]
  },
  {
   "cell_type": "code",
   "execution_count": 30,
   "id": "65d02147",
   "metadata": {
    "execution": {
     "iopub.execute_input": "2022-06-12T17:11:23.001492Z",
     "iopub.status.busy": "2022-06-12T17:11:23.001126Z",
     "iopub.status.idle": "2022-06-12T17:11:23.005379Z",
     "shell.execute_reply": "2022-06-12T17:11:23.004651Z"
    },
    "papermill": {
     "duration": 0.227228,
     "end_time": "2022-06-12T17:11:23.007867",
     "exception": false,
     "start_time": "2022-06-12T17:11:22.780639",
     "status": "completed"
    },
    "tags": []
   },
   "outputs": [
    {
     "name": "stdout",
     "output_type": "stream",
     "text": [
      "[0, 0, 0]\n"
     ]
    }
   ],
   "source": [
    "# check predictions\n",
    "print(pred[0:3])"
   ]
  },
  {
   "cell_type": "code",
   "execution_count": 31,
   "id": "39a09ca1",
   "metadata": {
    "execution": {
     "iopub.execute_input": "2022-06-12T17:11:23.514040Z",
     "iopub.status.busy": "2022-06-12T17:11:23.513692Z",
     "iopub.status.idle": "2022-06-12T17:11:23.521059Z",
     "shell.execute_reply": "2022-06-12T17:11:23.520301Z"
    },
    "papermill": {
     "duration": 0.234418,
     "end_time": "2022-06-12T17:11:23.522826",
     "exception": false,
     "start_time": "2022-06-12T17:11:23.288408",
     "status": "completed"
    },
    "tags": []
   },
   "outputs": [],
   "source": [
    "submission = test.id.copy().to_frame()\n",
    "submission['prediction'] = preds"
   ]
  },
  {
   "cell_type": "code",
   "execution_count": 32,
   "id": "bf28571b",
   "metadata": {
    "execution": {
     "iopub.execute_input": "2022-06-12T17:11:23.964068Z",
     "iopub.status.busy": "2022-06-12T17:11:23.963705Z",
     "iopub.status.idle": "2022-06-12T17:11:23.975799Z",
     "shell.execute_reply": "2022-06-12T17:11:23.975080Z"
    },
    "papermill": {
     "duration": 0.236366,
     "end_time": "2022-06-12T17:11:23.977530",
     "exception": false,
     "start_time": "2022-06-12T17:11:23.741164",
     "status": "completed"
    },
    "tags": []
   },
   "outputs": [
    {
     "data": {
      "text/html": [
       "<div>\n",
       "<style scoped>\n",
       "    .dataframe tbody tr th:only-of-type {\n",
       "        vertical-align: middle;\n",
       "    }\n",
       "\n",
       "    .dataframe tbody tr th {\n",
       "        vertical-align: top;\n",
       "    }\n",
       "\n",
       "    .dataframe thead th {\n",
       "        text-align: right;\n",
       "    }\n",
       "</style>\n",
       "<table border=\"1\" class=\"dataframe\">\n",
       "  <thead>\n",
       "    <tr style=\"text-align: right;\">\n",
       "      <th></th>\n",
       "      <th>id</th>\n",
       "      <th>prediction</th>\n",
       "    </tr>\n",
       "  </thead>\n",
       "  <tbody>\n",
       "    <tr>\n",
       "      <th>0</th>\n",
       "      <td>c6d58c3f69</td>\n",
       "      <td>2</td>\n",
       "    </tr>\n",
       "    <tr>\n",
       "      <th>1</th>\n",
       "      <td>cefcc82292</td>\n",
       "      <td>1</td>\n",
       "    </tr>\n",
       "    <tr>\n",
       "      <th>2</th>\n",
       "      <td>e98005252c</td>\n",
       "      <td>1</td>\n",
       "    </tr>\n",
       "    <tr>\n",
       "      <th>3</th>\n",
       "      <td>58518c10ba</td>\n",
       "      <td>1</td>\n",
       "    </tr>\n",
       "    <tr>\n",
       "      <th>4</th>\n",
       "      <td>c32b0d16df</td>\n",
       "      <td>1</td>\n",
       "    </tr>\n",
       "  </tbody>\n",
       "</table>\n",
       "</div>"
      ],
      "text/plain": [
       "           id  prediction\n",
       "0  c6d58c3f69           2\n",
       "1  cefcc82292           1\n",
       "2  e98005252c           1\n",
       "3  58518c10ba           1\n",
       "4  c32b0d16df           1"
      ]
     },
     "execution_count": 32,
     "metadata": {},
     "output_type": "execute_result"
    }
   ],
   "source": [
    "submission.head()"
   ]
  },
  {
   "cell_type": "code",
   "execution_count": 33,
   "id": "6320b7e5",
   "metadata": {
    "execution": {
     "iopub.execute_input": "2022-06-12T17:11:24.416150Z",
     "iopub.status.busy": "2022-06-12T17:11:24.415816Z",
     "iopub.status.idle": "2022-06-12T17:11:24.429987Z",
     "shell.execute_reply": "2022-06-12T17:11:24.429289Z"
    },
    "papermill": {
     "duration": 0.235113,
     "end_time": "2022-06-12T17:11:24.431664",
     "exception": false,
     "start_time": "2022-06-12T17:11:24.196551",
     "status": "completed"
    },
    "tags": []
   },
   "outputs": [],
   "source": [
    "submission.to_csv(\"submission.csv\", index = False)"
   ]
  },
  {
   "cell_type": "code",
   "execution_count": null,
   "id": "cfd59303",
   "metadata": {
    "papermill": {
     "duration": 0.218966,
     "end_time": "2022-06-12T17:11:24.874663",
     "exception": false,
     "start_time": "2022-06-12T17:11:24.655697",
     "status": "completed"
    },
    "tags": []
   },
   "outputs": [],
   "source": []
  }
 ],
 "metadata": {
  "kernelspec": {
   "display_name": "Python 3",
   "language": "python",
   "name": "python3"
  },
  "language_info": {
   "codemirror_mode": {
    "name": "ipython",
    "version": 3
   },
   "file_extension": ".py",
   "mimetype": "text/x-python",
   "name": "python",
   "nbconvert_exporter": "python",
   "pygments_lexer": "ipython3",
   "version": "3.7.12"
  },
  "papermill": {
   "default_parameters": {},
   "duration": 1100.746395,
   "end_time": "2022-06-12T17:11:27.898916",
   "environment_variables": {},
   "exception": null,
   "input_path": "__notebook__.ipynb",
   "output_path": "__notebook__.ipynb",
   "parameters": {},
   "start_time": "2022-06-12T16:53:07.152521",
   "version": "2.3.4"
  },
  "widgets": {
   "application/vnd.jupyter.widget-state+json": {
    "state": {
     "0372f5cf74da4488a8127b9325dee8c5": {
      "model_module": "@jupyter-widgets/controls",
      "model_module_version": "1.5.0",
      "model_name": "FloatProgressModel",
      "state": {
       "_dom_classes": [],
       "_model_module": "@jupyter-widgets/controls",
       "_model_module_version": "1.5.0",
       "_model_name": "FloatProgressModel",
       "_view_count": null,
       "_view_module": "@jupyter-widgets/controls",
       "_view_module_version": "1.5.0",
       "_view_name": "ProgressView",
       "bar_style": "success",
       "description": "",
       "description_tooltip": null,
       "layout": "IPY_MODEL_e7f8e572abb547499ce042cbfb01a8b6",
       "max": 714314041.0,
       "min": 0.0,
       "orientation": "horizontal",
       "style": "IPY_MODEL_5f782e41f7fc43de8e8e6532d207968b",
       "value": 714314041.0
      }
     },
     "0f075e36a28c4061b44b199d9472337d": {
      "model_module": "@jupyter-widgets/base",
      "model_module_version": "1.2.0",
      "model_name": "LayoutModel",
      "state": {
       "_model_module": "@jupyter-widgets/base",
       "_model_module_version": "1.2.0",
       "_model_name": "LayoutModel",
       "_view_count": null,
       "_view_module": "@jupyter-widgets/base",
       "_view_module_version": "1.2.0",
       "_view_name": "LayoutView",
       "align_content": null,
       "align_items": null,
       "align_self": null,
       "border": null,
       "bottom": null,
       "display": null,
       "flex": null,
       "flex_flow": null,
       "grid_area": null,
       "grid_auto_columns": null,
       "grid_auto_flow": null,
       "grid_auto_rows": null,
       "grid_column": null,
       "grid_gap": null,
       "grid_row": null,
       "grid_template_areas": null,
       "grid_template_columns": null,
       "grid_template_rows": null,
       "height": null,
       "justify_content": null,
       "justify_items": null,
       "left": null,
       "margin": null,
       "max_height": null,
       "max_width": null,
       "min_height": null,
       "min_width": null,
       "object_fit": null,
       "object_position": null,
       "order": null,
       "overflow": null,
       "overflow_x": null,
       "overflow_y": null,
       "padding": null,
       "right": null,
       "top": null,
       "visibility": null,
       "width": null
      }
     },
     "14dac281b2bc449886efdf713c861d92": {
      "model_module": "@jupyter-widgets/controls",
      "model_module_version": "1.5.0",
      "model_name": "HTMLModel",
      "state": {
       "_dom_classes": [],
       "_model_module": "@jupyter-widgets/controls",
       "_model_module_version": "1.5.0",
       "_model_name": "HTMLModel",
       "_view_count": null,
       "_view_module": "@jupyter-widgets/controls",
       "_view_module_version": "1.5.0",
       "_view_name": "HTMLView",
       "description": "",
       "description_tooltip": null,
       "layout": "IPY_MODEL_dc7cea417e6241c8bce1541077167c23",
       "placeholder": "​",
       "style": "IPY_MODEL_88493abf1f9748318a5a6a4082b9ca80",
       "value": "Downloading: 100%"
      }
     },
     "1d913d3848db4dd5bc69febcd1224f0d": {
      "model_module": "@jupyter-widgets/controls",
      "model_module_version": "1.5.0",
      "model_name": "DescriptionStyleModel",
      "state": {
       "_model_module": "@jupyter-widgets/controls",
       "_model_module_version": "1.5.0",
       "_model_name": "DescriptionStyleModel",
       "_view_count": null,
       "_view_module": "@jupyter-widgets/base",
       "_view_module_version": "1.2.0",
       "_view_name": "StyleView",
       "description_width": ""
      }
     },
     "20e5d5dd35ee4c08a03d4870b6696ce3": {
      "model_module": "@jupyter-widgets/base",
      "model_module_version": "1.2.0",
      "model_name": "LayoutModel",
      "state": {
       "_model_module": "@jupyter-widgets/base",
       "_model_module_version": "1.2.0",
       "_model_name": "LayoutModel",
       "_view_count": null,
       "_view_module": "@jupyter-widgets/base",
       "_view_module_version": "1.2.0",
       "_view_name": "LayoutView",
       "align_content": null,
       "align_items": null,
       "align_self": null,
       "border": null,
       "bottom": null,
       "display": null,
       "flex": null,
       "flex_flow": null,
       "grid_area": null,
       "grid_auto_columns": null,
       "grid_auto_flow": null,
       "grid_auto_rows": null,
       "grid_column": null,
       "grid_gap": null,
       "grid_row": null,
       "grid_template_areas": null,
       "grid_template_columns": null,
       "grid_template_rows": null,
       "height": null,
       "justify_content": null,
       "justify_items": null,
       "left": null,
       "margin": null,
       "max_height": null,
       "max_width": null,
       "min_height": null,
       "min_width": null,
       "object_fit": null,
       "object_position": null,
       "order": null,
       "overflow": null,
       "overflow_x": null,
       "overflow_y": null,
       "padding": null,
       "right": null,
       "top": null,
       "visibility": null,
       "width": null
      }
     },
     "29c7f24ab85a49d7978d88485dd71696": {
      "model_module": "@jupyter-widgets/controls",
      "model_module_version": "1.5.0",
      "model_name": "HTMLModel",
      "state": {
       "_dom_classes": [],
       "_model_module": "@jupyter-widgets/controls",
       "_model_module_version": "1.5.0",
       "_model_name": "HTMLModel",
       "_view_count": null,
       "_view_module": "@jupyter-widgets/controls",
       "_view_module_version": "1.5.0",
       "_view_name": "HTMLView",
       "description": "",
       "description_tooltip": null,
       "layout": "IPY_MODEL_345c8e3c58424792b3c35c052f54ce77",
       "placeholder": "​",
       "style": "IPY_MODEL_f519db9408c5438093fbef92915b6a78",
       "value": "Downloading: 100%"
      }
     },
     "345c8e3c58424792b3c35c052f54ce77": {
      "model_module": "@jupyter-widgets/base",
      "model_module_version": "1.2.0",
      "model_name": "LayoutModel",
      "state": {
       "_model_module": "@jupyter-widgets/base",
       "_model_module_version": "1.2.0",
       "_model_name": "LayoutModel",
       "_view_count": null,
       "_view_module": "@jupyter-widgets/base",
       "_view_module_version": "1.2.0",
       "_view_name": "LayoutView",
       "align_content": null,
       "align_items": null,
       "align_self": null,
       "border": null,
       "bottom": null,
       "display": null,
       "flex": null,
       "flex_flow": null,
       "grid_area": null,
       "grid_auto_columns": null,
       "grid_auto_flow": null,
       "grid_auto_rows": null,
       "grid_column": null,
       "grid_gap": null,
       "grid_row": null,
       "grid_template_areas": null,
       "grid_template_columns": null,
       "grid_template_rows": null,
       "height": null,
       "justify_content": null,
       "justify_items": null,
       "left": null,
       "margin": null,
       "max_height": null,
       "max_width": null,
       "min_height": null,
       "min_width": null,
       "object_fit": null,
       "object_position": null,
       "order": null,
       "overflow": null,
       "overflow_x": null,
       "overflow_y": null,
       "padding": null,
       "right": null,
       "top": null,
       "visibility": null,
       "width": null
      }
     },
     "39de4fbc59934c02b0dad023c1c69a5a": {
      "model_module": "@jupyter-widgets/base",
      "model_module_version": "1.2.0",
      "model_name": "LayoutModel",
      "state": {
       "_model_module": "@jupyter-widgets/base",
       "_model_module_version": "1.2.0",
       "_model_name": "LayoutModel",
       "_view_count": null,
       "_view_module": "@jupyter-widgets/base",
       "_view_module_version": "1.2.0",
       "_view_name": "LayoutView",
       "align_content": null,
       "align_items": null,
       "align_self": null,
       "border": null,
       "bottom": null,
       "display": null,
       "flex": null,
       "flex_flow": null,
       "grid_area": null,
       "grid_auto_columns": null,
       "grid_auto_flow": null,
       "grid_auto_rows": null,
       "grid_column": null,
       "grid_gap": null,
       "grid_row": null,
       "grid_template_areas": null,
       "grid_template_columns": null,
       "grid_template_rows": null,
       "height": null,
       "justify_content": null,
       "justify_items": null,
       "left": null,
       "margin": null,
       "max_height": null,
       "max_width": null,
       "min_height": null,
       "min_width": null,
       "object_fit": null,
       "object_position": null,
       "order": null,
       "overflow": null,
       "overflow_x": null,
       "overflow_y": null,
       "padding": null,
       "right": null,
       "top": null,
       "visibility": null,
       "width": null
      }
     },
     "407dc14226b94d699bb2a45c6e0f57ea": {
      "model_module": "@jupyter-widgets/controls",
      "model_module_version": "1.5.0",
      "model_name": "HBoxModel",
      "state": {
       "_dom_classes": [],
       "_model_module": "@jupyter-widgets/controls",
       "_model_module_version": "1.5.0",
       "_model_name": "HBoxModel",
       "_view_count": null,
       "_view_module": "@jupyter-widgets/controls",
       "_view_module_version": "1.5.0",
       "_view_name": "HBoxView",
       "box_style": "",
       "children": [
        "IPY_MODEL_b4552bdc8a544c0580f4a48dc093af9c",
        "IPY_MODEL_0372f5cf74da4488a8127b9325dee8c5",
        "IPY_MODEL_4290d75f138749a28ec77863350a5c1a"
       ],
       "layout": "IPY_MODEL_d11e9ab614dc4be1b3c0c4c1753d6d07"
      }
     },
     "4290d75f138749a28ec77863350a5c1a": {
      "model_module": "@jupyter-widgets/controls",
      "model_module_version": "1.5.0",
      "model_name": "HTMLModel",
      "state": {
       "_dom_classes": [],
       "_model_module": "@jupyter-widgets/controls",
       "_model_module_version": "1.5.0",
       "_model_name": "HTMLModel",
       "_view_count": null,
       "_view_module": "@jupyter-widgets/controls",
       "_view_module_version": "1.5.0",
       "_view_name": "HTMLView",
       "description": "",
       "description_tooltip": null,
       "layout": "IPY_MODEL_39de4fbc59934c02b0dad023c1c69a5a",
       "placeholder": "​",
       "style": "IPY_MODEL_b2eb5d0b3772454ba1ed8948da2171e9",
       "value": " 681M/681M [00:31&lt;00:00, 18.9MB/s]"
      }
     },
     "43686d45db0647d5ba33d682bdfd6757": {
      "model_module": "@jupyter-widgets/controls",
      "model_module_version": "1.5.0",
      "model_name": "FloatProgressModel",
      "state": {
       "_dom_classes": [],
       "_model_module": "@jupyter-widgets/controls",
       "_model_module_version": "1.5.0",
       "_model_name": "FloatProgressModel",
       "_view_count": null,
       "_view_module": "@jupyter-widgets/controls",
       "_view_module_version": "1.5.0",
       "_view_name": "ProgressView",
       "bar_style": "success",
       "description": "",
       "description_tooltip": null,
       "layout": "IPY_MODEL_6cfdf68ea34a4911beda101de421fef9",
       "max": 625.0,
       "min": 0.0,
       "orientation": "horizontal",
       "style": "IPY_MODEL_8e7bd29bc32546d580884797da67b9a8",
       "value": 625.0
      }
     },
     "445979173b084418986d925b83d87ced": {
      "model_module": "@jupyter-widgets/base",
      "model_module_version": "1.2.0",
      "model_name": "LayoutModel",
      "state": {
       "_model_module": "@jupyter-widgets/base",
       "_model_module_version": "1.2.0",
       "_model_name": "LayoutModel",
       "_view_count": null,
       "_view_module": "@jupyter-widgets/base",
       "_view_module_version": "1.2.0",
       "_view_name": "LayoutView",
       "align_content": null,
       "align_items": null,
       "align_self": null,
       "border": null,
       "bottom": null,
       "display": null,
       "flex": null,
       "flex_flow": null,
       "grid_area": null,
       "grid_auto_columns": null,
       "grid_auto_flow": null,
       "grid_auto_rows": null,
       "grid_column": null,
       "grid_gap": null,
       "grid_row": null,
       "grid_template_areas": null,
       "grid_template_columns": null,
       "grid_template_rows": null,
       "height": null,
       "justify_content": null,
       "justify_items": null,
       "left": null,
       "margin": null,
       "max_height": null,
       "max_width": null,
       "min_height": null,
       "min_width": null,
       "object_fit": null,
       "object_position": null,
       "order": null,
       "overflow": null,
       "overflow_x": null,
       "overflow_y": null,
       "padding": null,
       "right": null,
       "top": null,
       "visibility": null,
       "width": null
      }
     },
     "585e1513d646409bb07518746e644956": {
      "model_module": "@jupyter-widgets/controls",
      "model_module_version": "1.5.0",
      "model_name": "HTMLModel",
      "state": {
       "_dom_classes": [],
       "_model_module": "@jupyter-widgets/controls",
       "_model_module_version": "1.5.0",
       "_model_name": "HTMLModel",
       "_view_count": null,
       "_view_module": "@jupyter-widgets/controls",
       "_view_module_version": "1.5.0",
       "_view_name": "HTMLView",
       "description": "",
       "description_tooltip": null,
       "layout": "IPY_MODEL_20e5d5dd35ee4c08a03d4870b6696ce3",
       "placeholder": "​",
       "style": "IPY_MODEL_9bc0278cb60d44a9ae916afe8da94602",
       "value": " 29.0/29.0 [00:00&lt;00:00, 1.17kB/s]"
      }
     },
     "5ee09707a69c4b2dbaaf3221a89ac152": {
      "model_module": "@jupyter-widgets/base",
      "model_module_version": "1.2.0",
      "model_name": "LayoutModel",
      "state": {
       "_model_module": "@jupyter-widgets/base",
       "_model_module_version": "1.2.0",
       "_model_name": "LayoutModel",
       "_view_count": null,
       "_view_module": "@jupyter-widgets/base",
       "_view_module_version": "1.2.0",
       "_view_name": "LayoutView",
       "align_content": null,
       "align_items": null,
       "align_self": null,
       "border": null,
       "bottom": null,
       "display": null,
       "flex": null,
       "flex_flow": null,
       "grid_area": null,
       "grid_auto_columns": null,
       "grid_auto_flow": null,
       "grid_auto_rows": null,
       "grid_column": null,
       "grid_gap": null,
       "grid_row": null,
       "grid_template_areas": null,
       "grid_template_columns": null,
       "grid_template_rows": null,
       "height": null,
       "justify_content": null,
       "justify_items": null,
       "left": null,
       "margin": null,
       "max_height": null,
       "max_width": null,
       "min_height": null,
       "min_width": null,
       "object_fit": null,
       "object_position": null,
       "order": null,
       "overflow": null,
       "overflow_x": null,
       "overflow_y": null,
       "padding": null,
       "right": null,
       "top": null,
       "visibility": null,
       "width": null
      }
     },
     "5f782e41f7fc43de8e8e6532d207968b": {
      "model_module": "@jupyter-widgets/controls",
      "model_module_version": "1.5.0",
      "model_name": "ProgressStyleModel",
      "state": {
       "_model_module": "@jupyter-widgets/controls",
       "_model_module_version": "1.5.0",
       "_model_name": "ProgressStyleModel",
       "_view_count": null,
       "_view_module": "@jupyter-widgets/base",
       "_view_module_version": "1.2.0",
       "_view_name": "StyleView",
       "bar_color": null,
       "description_width": ""
      }
     },
     "633187cebf2c4dae83965fa7f875682a": {
      "model_module": "@jupyter-widgets/controls",
      "model_module_version": "1.5.0",
      "model_name": "DescriptionStyleModel",
      "state": {
       "_model_module": "@jupyter-widgets/controls",
       "_model_module_version": "1.5.0",
       "_model_name": "DescriptionStyleModel",
       "_view_count": null,
       "_view_module": "@jupyter-widgets/base",
       "_view_module_version": "1.2.0",
       "_view_name": "StyleView",
       "description_width": ""
      }
     },
     "6ba7bf31167349ccb955ce7e0c83fe68": {
      "model_module": "@jupyter-widgets/controls",
      "model_module_version": "1.5.0",
      "model_name": "FloatProgressModel",
      "state": {
       "_dom_classes": [],
       "_model_module": "@jupyter-widgets/controls",
       "_model_module_version": "1.5.0",
       "_model_name": "FloatProgressModel",
       "_view_count": null,
       "_view_module": "@jupyter-widgets/controls",
       "_view_module_version": "1.5.0",
       "_view_name": "ProgressView",
       "bar_style": "success",
       "description": "",
       "description_tooltip": null,
       "layout": "IPY_MODEL_a61b31052bf2433e9f08f3436c613914",
       "max": 29.0,
       "min": 0.0,
       "orientation": "horizontal",
       "style": "IPY_MODEL_d6080341c4f944169591f7e5d6ac5d04",
       "value": 29.0
      }
     },
     "6cfdf68ea34a4911beda101de421fef9": {
      "model_module": "@jupyter-widgets/base",
      "model_module_version": "1.2.0",
      "model_name": "LayoutModel",
      "state": {
       "_model_module": "@jupyter-widgets/base",
       "_model_module_version": "1.2.0",
       "_model_name": "LayoutModel",
       "_view_count": null,
       "_view_module": "@jupyter-widgets/base",
       "_view_module_version": "1.2.0",
       "_view_name": "LayoutView",
       "align_content": null,
       "align_items": null,
       "align_self": null,
       "border": null,
       "bottom": null,
       "display": null,
       "flex": null,
       "flex_flow": null,
       "grid_area": null,
       "grid_auto_columns": null,
       "grid_auto_flow": null,
       "grid_auto_rows": null,
       "grid_column": null,
       "grid_gap": null,
       "grid_row": null,
       "grid_template_areas": null,
       "grid_template_columns": null,
       "grid_template_rows": null,
       "height": null,
       "justify_content": null,
       "justify_items": null,
       "left": null,
       "margin": null,
       "max_height": null,
       "max_width": null,
       "min_height": null,
       "min_width": null,
       "object_fit": null,
       "object_position": null,
       "order": null,
       "overflow": null,
       "overflow_x": null,
       "overflow_y": null,
       "padding": null,
       "right": null,
       "top": null,
       "visibility": null,
       "width": null
      }
     },
     "7ad8d70ee290439596363830899ffe8e": {
      "model_module": "@jupyter-widgets/base",
      "model_module_version": "1.2.0",
      "model_name": "LayoutModel",
      "state": {
       "_model_module": "@jupyter-widgets/base",
       "_model_module_version": "1.2.0",
       "_model_name": "LayoutModel",
       "_view_count": null,
       "_view_module": "@jupyter-widgets/base",
       "_view_module_version": "1.2.0",
       "_view_name": "LayoutView",
       "align_content": null,
       "align_items": null,
       "align_self": null,
       "border": null,
       "bottom": null,
       "display": null,
       "flex": null,
       "flex_flow": null,
       "grid_area": null,
       "grid_auto_columns": null,
       "grid_auto_flow": null,
       "grid_auto_rows": null,
       "grid_column": null,
       "grid_gap": null,
       "grid_row": null,
       "grid_template_areas": null,
       "grid_template_columns": null,
       "grid_template_rows": null,
       "height": null,
       "justify_content": null,
       "justify_items": null,
       "left": null,
       "margin": null,
       "max_height": null,
       "max_width": null,
       "min_height": null,
       "min_width": null,
       "object_fit": null,
       "object_position": null,
       "order": null,
       "overflow": null,
       "overflow_x": null,
       "overflow_y": null,
       "padding": null,
       "right": null,
       "top": null,
       "visibility": null,
       "width": null
      }
     },
     "7dc87a31cd3947cf90296fa6ddc19957": {
      "model_module": "@jupyter-widgets/controls",
      "model_module_version": "1.5.0",
      "model_name": "FloatProgressModel",
      "state": {
       "_dom_classes": [],
       "_model_module": "@jupyter-widgets/controls",
       "_model_module_version": "1.5.0",
       "_model_name": "FloatProgressModel",
       "_view_count": null,
       "_view_module": "@jupyter-widgets/controls",
       "_view_module_version": "1.5.0",
       "_view_name": "ProgressView",
       "bar_style": "success",
       "description": "",
       "description_tooltip": null,
       "layout": "IPY_MODEL_881adf47cb29462aaa4bfee61d17687b",
       "max": 995526.0,
       "min": 0.0,
       "orientation": "horizontal",
       "style": "IPY_MODEL_b4c09702b4f941bf9e4d5091b2e4323a",
       "value": 995526.0
      }
     },
     "7dc98cabb0e64628b49c6b5763e737cf": {
      "model_module": "@jupyter-widgets/base",
      "model_module_version": "1.2.0",
      "model_name": "LayoutModel",
      "state": {
       "_model_module": "@jupyter-widgets/base",
       "_model_module_version": "1.2.0",
       "_model_name": "LayoutModel",
       "_view_count": null,
       "_view_module": "@jupyter-widgets/base",
       "_view_module_version": "1.2.0",
       "_view_name": "LayoutView",
       "align_content": null,
       "align_items": null,
       "align_self": null,
       "border": null,
       "bottom": null,
       "display": null,
       "flex": null,
       "flex_flow": null,
       "grid_area": null,
       "grid_auto_columns": null,
       "grid_auto_flow": null,
       "grid_auto_rows": null,
       "grid_column": null,
       "grid_gap": null,
       "grid_row": null,
       "grid_template_areas": null,
       "grid_template_columns": null,
       "grid_template_rows": null,
       "height": null,
       "justify_content": null,
       "justify_items": null,
       "left": null,
       "margin": null,
       "max_height": null,
       "max_width": null,
       "min_height": null,
       "min_width": null,
       "object_fit": null,
       "object_position": null,
       "order": null,
       "overflow": null,
       "overflow_x": null,
       "overflow_y": null,
       "padding": null,
       "right": null,
       "top": null,
       "visibility": null,
       "width": null
      }
     },
     "881adf47cb29462aaa4bfee61d17687b": {
      "model_module": "@jupyter-widgets/base",
      "model_module_version": "1.2.0",
      "model_name": "LayoutModel",
      "state": {
       "_model_module": "@jupyter-widgets/base",
       "_model_module_version": "1.2.0",
       "_model_name": "LayoutModel",
       "_view_count": null,
       "_view_module": "@jupyter-widgets/base",
       "_view_module_version": "1.2.0",
       "_view_name": "LayoutView",
       "align_content": null,
       "align_items": null,
       "align_self": null,
       "border": null,
       "bottom": null,
       "display": null,
       "flex": null,
       "flex_flow": null,
       "grid_area": null,
       "grid_auto_columns": null,
       "grid_auto_flow": null,
       "grid_auto_rows": null,
       "grid_column": null,
       "grid_gap": null,
       "grid_row": null,
       "grid_template_areas": null,
       "grid_template_columns": null,
       "grid_template_rows": null,
       "height": null,
       "justify_content": null,
       "justify_items": null,
       "left": null,
       "margin": null,
       "max_height": null,
       "max_width": null,
       "min_height": null,
       "min_width": null,
       "object_fit": null,
       "object_position": null,
       "order": null,
       "overflow": null,
       "overflow_x": null,
       "overflow_y": null,
       "padding": null,
       "right": null,
       "top": null,
       "visibility": null,
       "width": null
      }
     },
     "88493abf1f9748318a5a6a4082b9ca80": {
      "model_module": "@jupyter-widgets/controls",
      "model_module_version": "1.5.0",
      "model_name": "DescriptionStyleModel",
      "state": {
       "_model_module": "@jupyter-widgets/controls",
       "_model_module_version": "1.5.0",
       "_model_name": "DescriptionStyleModel",
       "_view_count": null,
       "_view_module": "@jupyter-widgets/base",
       "_view_module_version": "1.2.0",
       "_view_name": "StyleView",
       "description_width": ""
      }
     },
     "8e7bd29bc32546d580884797da67b9a8": {
      "model_module": "@jupyter-widgets/controls",
      "model_module_version": "1.5.0",
      "model_name": "ProgressStyleModel",
      "state": {
       "_model_module": "@jupyter-widgets/controls",
       "_model_module_version": "1.5.0",
       "_model_name": "ProgressStyleModel",
       "_view_count": null,
       "_view_module": "@jupyter-widgets/base",
       "_view_module_version": "1.2.0",
       "_view_name": "StyleView",
       "bar_color": null,
       "description_width": ""
      }
     },
     "9516468b1b62456f8835ba8c3c214aed": {
      "model_module": "@jupyter-widgets/controls",
      "model_module_version": "1.5.0",
      "model_name": "HBoxModel",
      "state": {
       "_dom_classes": [],
       "_model_module": "@jupyter-widgets/controls",
       "_model_module_version": "1.5.0",
       "_model_name": "HBoxModel",
       "_view_count": null,
       "_view_module": "@jupyter-widgets/controls",
       "_view_module_version": "1.5.0",
       "_view_name": "HBoxView",
       "box_style": "",
       "children": [
        "IPY_MODEL_29c7f24ab85a49d7978d88485dd71696",
        "IPY_MODEL_43686d45db0647d5ba33d682bdfd6757",
        "IPY_MODEL_b974bfe2f5024c03870be400d8f1c6c0"
       ],
       "layout": "IPY_MODEL_7dc98cabb0e64628b49c6b5763e737cf"
      }
     },
     "9bc0278cb60d44a9ae916afe8da94602": {
      "model_module": "@jupyter-widgets/controls",
      "model_module_version": "1.5.0",
      "model_name": "DescriptionStyleModel",
      "state": {
       "_model_module": "@jupyter-widgets/controls",
       "_model_module_version": "1.5.0",
       "_model_name": "DescriptionStyleModel",
       "_view_count": null,
       "_view_module": "@jupyter-widgets/base",
       "_view_module_version": "1.2.0",
       "_view_name": "StyleView",
       "description_width": ""
      }
     },
     "a0cd22f49ae64b40a4db2e1c5da3145a": {
      "model_module": "@jupyter-widgets/controls",
      "model_module_version": "1.5.0",
      "model_name": "HTMLModel",
      "state": {
       "_dom_classes": [],
       "_model_module": "@jupyter-widgets/controls",
       "_model_module_version": "1.5.0",
       "_model_name": "HTMLModel",
       "_view_count": null,
       "_view_module": "@jupyter-widgets/controls",
       "_view_module_version": "1.5.0",
       "_view_name": "HTMLView",
       "description": "",
       "description_tooltip": null,
       "layout": "IPY_MODEL_cd8eb2ecea944ae2b58887303d425374",
       "placeholder": "​",
       "style": "IPY_MODEL_a14dbc5045004742a268d80007c0c9f3",
       "value": "Downloading: 100%"
      }
     },
     "a1466e508fd3408a826c3ffd06a499fc": {
      "model_module": "@jupyter-widgets/controls",
      "model_module_version": "1.5.0",
      "model_name": "HBoxModel",
      "state": {
       "_dom_classes": [],
       "_model_module": "@jupyter-widgets/controls",
       "_model_module_version": "1.5.0",
       "_model_name": "HBoxModel",
       "_view_count": null,
       "_view_module": "@jupyter-widgets/controls",
       "_view_module_version": "1.5.0",
       "_view_name": "HBoxView",
       "box_style": "",
       "children": [
        "IPY_MODEL_14dac281b2bc449886efdf713c861d92",
        "IPY_MODEL_6ba7bf31167349ccb955ce7e0c83fe68",
        "IPY_MODEL_585e1513d646409bb07518746e644956"
       ],
       "layout": "IPY_MODEL_7ad8d70ee290439596363830899ffe8e"
      }
     },
     "a14dbc5045004742a268d80007c0c9f3": {
      "model_module": "@jupyter-widgets/controls",
      "model_module_version": "1.5.0",
      "model_name": "DescriptionStyleModel",
      "state": {
       "_model_module": "@jupyter-widgets/controls",
       "_model_module_version": "1.5.0",
       "_model_name": "DescriptionStyleModel",
       "_view_count": null,
       "_view_module": "@jupyter-widgets/base",
       "_view_module_version": "1.2.0",
       "_view_name": "StyleView",
       "description_width": ""
      }
     },
     "a61b31052bf2433e9f08f3436c613914": {
      "model_module": "@jupyter-widgets/base",
      "model_module_version": "1.2.0",
      "model_name": "LayoutModel",
      "state": {
       "_model_module": "@jupyter-widgets/base",
       "_model_module_version": "1.2.0",
       "_model_name": "LayoutModel",
       "_view_count": null,
       "_view_module": "@jupyter-widgets/base",
       "_view_module_version": "1.2.0",
       "_view_name": "LayoutView",
       "align_content": null,
       "align_items": null,
       "align_self": null,
       "border": null,
       "bottom": null,
       "display": null,
       "flex": null,
       "flex_flow": null,
       "grid_area": null,
       "grid_auto_columns": null,
       "grid_auto_flow": null,
       "grid_auto_rows": null,
       "grid_column": null,
       "grid_gap": null,
       "grid_row": null,
       "grid_template_areas": null,
       "grid_template_columns": null,
       "grid_template_rows": null,
       "height": null,
       "justify_content": null,
       "justify_items": null,
       "left": null,
       "margin": null,
       "max_height": null,
       "max_width": null,
       "min_height": null,
       "min_width": null,
       "object_fit": null,
       "object_position": null,
       "order": null,
       "overflow": null,
       "overflow_x": null,
       "overflow_y": null,
       "padding": null,
       "right": null,
       "top": null,
       "visibility": null,
       "width": null
      }
     },
     "b2a626eb83404873ae7ea09638c99ed7": {
      "model_module": "@jupyter-widgets/controls",
      "model_module_version": "1.5.0",
      "model_name": "HBoxModel",
      "state": {
       "_dom_classes": [],
       "_model_module": "@jupyter-widgets/controls",
       "_model_module_version": "1.5.0",
       "_model_name": "HBoxModel",
       "_view_count": null,
       "_view_module": "@jupyter-widgets/controls",
       "_view_module_version": "1.5.0",
       "_view_name": "HBoxView",
       "box_style": "",
       "children": [
        "IPY_MODEL_a0cd22f49ae64b40a4db2e1c5da3145a",
        "IPY_MODEL_7dc87a31cd3947cf90296fa6ddc19957",
        "IPY_MODEL_c14b1708c88f418cb057283be2ac6dc7"
       ],
       "layout": "IPY_MODEL_445979173b084418986d925b83d87ced"
      }
     },
     "b2eb5d0b3772454ba1ed8948da2171e9": {
      "model_module": "@jupyter-widgets/controls",
      "model_module_version": "1.5.0",
      "model_name": "DescriptionStyleModel",
      "state": {
       "_model_module": "@jupyter-widgets/controls",
       "_model_module_version": "1.5.0",
       "_model_name": "DescriptionStyleModel",
       "_view_count": null,
       "_view_module": "@jupyter-widgets/base",
       "_view_module_version": "1.2.0",
       "_view_name": "StyleView",
       "description_width": ""
      }
     },
     "b4552bdc8a544c0580f4a48dc093af9c": {
      "model_module": "@jupyter-widgets/controls",
      "model_module_version": "1.5.0",
      "model_name": "HTMLModel",
      "state": {
       "_dom_classes": [],
       "_model_module": "@jupyter-widgets/controls",
       "_model_module_version": "1.5.0",
       "_model_name": "HTMLModel",
       "_view_count": null,
       "_view_module": "@jupyter-widgets/controls",
       "_view_module_version": "1.5.0",
       "_view_name": "HTMLView",
       "description": "",
       "description_tooltip": null,
       "layout": "IPY_MODEL_0f075e36a28c4061b44b199d9472337d",
       "placeholder": "​",
       "style": "IPY_MODEL_1d913d3848db4dd5bc69febcd1224f0d",
       "value": "Downloading: 100%"
      }
     },
     "b4c09702b4f941bf9e4d5091b2e4323a": {
      "model_module": "@jupyter-widgets/controls",
      "model_module_version": "1.5.0",
      "model_name": "ProgressStyleModel",
      "state": {
       "_model_module": "@jupyter-widgets/controls",
       "_model_module_version": "1.5.0",
       "_model_name": "ProgressStyleModel",
       "_view_count": null,
       "_view_module": "@jupyter-widgets/base",
       "_view_module_version": "1.2.0",
       "_view_name": "StyleView",
       "bar_color": null,
       "description_width": ""
      }
     },
     "b974bfe2f5024c03870be400d8f1c6c0": {
      "model_module": "@jupyter-widgets/controls",
      "model_module_version": "1.5.0",
      "model_name": "HTMLModel",
      "state": {
       "_dom_classes": [],
       "_model_module": "@jupyter-widgets/controls",
       "_model_module_version": "1.5.0",
       "_model_name": "HTMLModel",
       "_view_count": null,
       "_view_module": "@jupyter-widgets/controls",
       "_view_module_version": "1.5.0",
       "_view_name": "HTMLView",
       "description": "",
       "description_tooltip": null,
       "layout": "IPY_MODEL_5ee09707a69c4b2dbaaf3221a89ac152",
       "placeholder": "​",
       "style": "IPY_MODEL_633187cebf2c4dae83965fa7f875682a",
       "value": " 625/625 [00:00&lt;00:00, 25.0kB/s]"
      }
     },
     "c14b1708c88f418cb057283be2ac6dc7": {
      "model_module": "@jupyter-widgets/controls",
      "model_module_version": "1.5.0",
      "model_name": "HTMLModel",
      "state": {
       "_dom_classes": [],
       "_model_module": "@jupyter-widgets/controls",
       "_model_module_version": "1.5.0",
       "_model_name": "HTMLModel",
       "_view_count": null,
       "_view_module": "@jupyter-widgets/controls",
       "_view_module_version": "1.5.0",
       "_view_name": "HTMLView",
       "description": "",
       "description_tooltip": null,
       "layout": "IPY_MODEL_c3deb62630244166aeb5484080fe72a0",
       "placeholder": "​",
       "style": "IPY_MODEL_c30e8497b7ed422cbc19750937bdb582",
       "value": " 972k/972k [00:00&lt;00:00, 2.59MB/s]"
      }
     },
     "c30e8497b7ed422cbc19750937bdb582": {
      "model_module": "@jupyter-widgets/controls",
      "model_module_version": "1.5.0",
      "model_name": "DescriptionStyleModel",
      "state": {
       "_model_module": "@jupyter-widgets/controls",
       "_model_module_version": "1.5.0",
       "_model_name": "DescriptionStyleModel",
       "_view_count": null,
       "_view_module": "@jupyter-widgets/base",
       "_view_module_version": "1.2.0",
       "_view_name": "StyleView",
       "description_width": ""
      }
     },
     "c3deb62630244166aeb5484080fe72a0": {
      "model_module": "@jupyter-widgets/base",
      "model_module_version": "1.2.0",
      "model_name": "LayoutModel",
      "state": {
       "_model_module": "@jupyter-widgets/base",
       "_model_module_version": "1.2.0",
       "_model_name": "LayoutModel",
       "_view_count": null,
       "_view_module": "@jupyter-widgets/base",
       "_view_module_version": "1.2.0",
       "_view_name": "LayoutView",
       "align_content": null,
       "align_items": null,
       "align_self": null,
       "border": null,
       "bottom": null,
       "display": null,
       "flex": null,
       "flex_flow": null,
       "grid_area": null,
       "grid_auto_columns": null,
       "grid_auto_flow": null,
       "grid_auto_rows": null,
       "grid_column": null,
       "grid_gap": null,
       "grid_row": null,
       "grid_template_areas": null,
       "grid_template_columns": null,
       "grid_template_rows": null,
       "height": null,
       "justify_content": null,
       "justify_items": null,
       "left": null,
       "margin": null,
       "max_height": null,
       "max_width": null,
       "min_height": null,
       "min_width": null,
       "object_fit": null,
       "object_position": null,
       "order": null,
       "overflow": null,
       "overflow_x": null,
       "overflow_y": null,
       "padding": null,
       "right": null,
       "top": null,
       "visibility": null,
       "width": null
      }
     },
     "cd8eb2ecea944ae2b58887303d425374": {
      "model_module": "@jupyter-widgets/base",
      "model_module_version": "1.2.0",
      "model_name": "LayoutModel",
      "state": {
       "_model_module": "@jupyter-widgets/base",
       "_model_module_version": "1.2.0",
       "_model_name": "LayoutModel",
       "_view_count": null,
       "_view_module": "@jupyter-widgets/base",
       "_view_module_version": "1.2.0",
       "_view_name": "LayoutView",
       "align_content": null,
       "align_items": null,
       "align_self": null,
       "border": null,
       "bottom": null,
       "display": null,
       "flex": null,
       "flex_flow": null,
       "grid_area": null,
       "grid_auto_columns": null,
       "grid_auto_flow": null,
       "grid_auto_rows": null,
       "grid_column": null,
       "grid_gap": null,
       "grid_row": null,
       "grid_template_areas": null,
       "grid_template_columns": null,
       "grid_template_rows": null,
       "height": null,
       "justify_content": null,
       "justify_items": null,
       "left": null,
       "margin": null,
       "max_height": null,
       "max_width": null,
       "min_height": null,
       "min_width": null,
       "object_fit": null,
       "object_position": null,
       "order": null,
       "overflow": null,
       "overflow_x": null,
       "overflow_y": null,
       "padding": null,
       "right": null,
       "top": null,
       "visibility": null,
       "width": null
      }
     },
     "d11e9ab614dc4be1b3c0c4c1753d6d07": {
      "model_module": "@jupyter-widgets/base",
      "model_module_version": "1.2.0",
      "model_name": "LayoutModel",
      "state": {
       "_model_module": "@jupyter-widgets/base",
       "_model_module_version": "1.2.0",
       "_model_name": "LayoutModel",
       "_view_count": null,
       "_view_module": "@jupyter-widgets/base",
       "_view_module_version": "1.2.0",
       "_view_name": "LayoutView",
       "align_content": null,
       "align_items": null,
       "align_self": null,
       "border": null,
       "bottom": null,
       "display": null,
       "flex": null,
       "flex_flow": null,
       "grid_area": null,
       "grid_auto_columns": null,
       "grid_auto_flow": null,
       "grid_auto_rows": null,
       "grid_column": null,
       "grid_gap": null,
       "grid_row": null,
       "grid_template_areas": null,
       "grid_template_columns": null,
       "grid_template_rows": null,
       "height": null,
       "justify_content": null,
       "justify_items": null,
       "left": null,
       "margin": null,
       "max_height": null,
       "max_width": null,
       "min_height": null,
       "min_width": null,
       "object_fit": null,
       "object_position": null,
       "order": null,
       "overflow": null,
       "overflow_x": null,
       "overflow_y": null,
       "padding": null,
       "right": null,
       "top": null,
       "visibility": null,
       "width": null
      }
     },
     "d6080341c4f944169591f7e5d6ac5d04": {
      "model_module": "@jupyter-widgets/controls",
      "model_module_version": "1.5.0",
      "model_name": "ProgressStyleModel",
      "state": {
       "_model_module": "@jupyter-widgets/controls",
       "_model_module_version": "1.5.0",
       "_model_name": "ProgressStyleModel",
       "_view_count": null,
       "_view_module": "@jupyter-widgets/base",
       "_view_module_version": "1.2.0",
       "_view_name": "StyleView",
       "bar_color": null,
       "description_width": ""
      }
     },
     "dc7cea417e6241c8bce1541077167c23": {
      "model_module": "@jupyter-widgets/base",
      "model_module_version": "1.2.0",
      "model_name": "LayoutModel",
      "state": {
       "_model_module": "@jupyter-widgets/base",
       "_model_module_version": "1.2.0",
       "_model_name": "LayoutModel",
       "_view_count": null,
       "_view_module": "@jupyter-widgets/base",
       "_view_module_version": "1.2.0",
       "_view_name": "LayoutView",
       "align_content": null,
       "align_items": null,
       "align_self": null,
       "border": null,
       "bottom": null,
       "display": null,
       "flex": null,
       "flex_flow": null,
       "grid_area": null,
       "grid_auto_columns": null,
       "grid_auto_flow": null,
       "grid_auto_rows": null,
       "grid_column": null,
       "grid_gap": null,
       "grid_row": null,
       "grid_template_areas": null,
       "grid_template_columns": null,
       "grid_template_rows": null,
       "height": null,
       "justify_content": null,
       "justify_items": null,
       "left": null,
       "margin": null,
       "max_height": null,
       "max_width": null,
       "min_height": null,
       "min_width": null,
       "object_fit": null,
       "object_position": null,
       "order": null,
       "overflow": null,
       "overflow_x": null,
       "overflow_y": null,
       "padding": null,
       "right": null,
       "top": null,
       "visibility": null,
       "width": null
      }
     },
     "e7f8e572abb547499ce042cbfb01a8b6": {
      "model_module": "@jupyter-widgets/base",
      "model_module_version": "1.2.0",
      "model_name": "LayoutModel",
      "state": {
       "_model_module": "@jupyter-widgets/base",
       "_model_module_version": "1.2.0",
       "_model_name": "LayoutModel",
       "_view_count": null,
       "_view_module": "@jupyter-widgets/base",
       "_view_module_version": "1.2.0",
       "_view_name": "LayoutView",
       "align_content": null,
       "align_items": null,
       "align_self": null,
       "border": null,
       "bottom": null,
       "display": null,
       "flex": null,
       "flex_flow": null,
       "grid_area": null,
       "grid_auto_columns": null,
       "grid_auto_flow": null,
       "grid_auto_rows": null,
       "grid_column": null,
       "grid_gap": null,
       "grid_row": null,
       "grid_template_areas": null,
       "grid_template_columns": null,
       "grid_template_rows": null,
       "height": null,
       "justify_content": null,
       "justify_items": null,
       "left": null,
       "margin": null,
       "max_height": null,
       "max_width": null,
       "min_height": null,
       "min_width": null,
       "object_fit": null,
       "object_position": null,
       "order": null,
       "overflow": null,
       "overflow_x": null,
       "overflow_y": null,
       "padding": null,
       "right": null,
       "top": null,
       "visibility": null,
       "width": null
      }
     },
     "f519db9408c5438093fbef92915b6a78": {
      "model_module": "@jupyter-widgets/controls",
      "model_module_version": "1.5.0",
      "model_name": "DescriptionStyleModel",
      "state": {
       "_model_module": "@jupyter-widgets/controls",
       "_model_module_version": "1.5.0",
       "_model_name": "DescriptionStyleModel",
       "_view_count": null,
       "_view_module": "@jupyter-widgets/base",
       "_view_module_version": "1.2.0",
       "_view_name": "StyleView",
       "description_width": ""
      }
     }
    },
    "version_major": 2,
    "version_minor": 0
   }
  }
 },
 "nbformat": 4,
 "nbformat_minor": 5
}
